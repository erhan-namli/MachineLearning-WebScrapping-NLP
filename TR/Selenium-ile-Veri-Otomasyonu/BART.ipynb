{
 "cells": [
  {
   "cell_type": "markdown",
   "metadata": {},
   "source": [
    "# Selenium ile Veri Otomasyonu"
   ]
  },
  {
   "cell_type": "markdown",
   "metadata": {},
   "source": [
    "**Hedefler**\n",
    "1. BART API kullanarak istasyonların enlemlerinin ve boylamlarının olduğu json dosyasını çekeceğiz\n",
    "2. Elimizde bulunan bu verilerle istasyonlar arası mesafeyi hesaplamak için tarimziraat.com isimli siteyi kullanacağız."
   ]
  },
  {
   "cell_type": "markdown",
   "metadata": {},
   "source": [
    "![image](station.png)"
   ]
  },
  {
   "cell_type": "markdown",
   "metadata": {},
   "source": [
    "# Kütüphaneler"
   ]
  },
  {
   "cell_type": "code",
   "execution_count": 1,
   "metadata": {},
   "outputs": [],
   "source": [
    "import pandas as pd # Veriseti haline getirmek için kullanacağımız kütüphane\n",
    "import seaborn as sns \n",
    "import warnings    # Hata mesajlarını görmemek için bu kütüphaneyi de dahil ediyoruz\n",
    "import matplotlib.pyplot as plt\n",
    "%matplotlib inline\n",
    "warnings.filterwarnings(\"ignore\")  # Hata mesajlarını görmezden gel komutu"
   ]
  },
  {
   "cell_type": "code",
   "execution_count": 3,
   "metadata": {},
   "outputs": [],
   "source": [
    "from bs4 import BeautifulSoup   # İnternetten çekeceğimiz verileri html formatında düzenli\n",
    "                                # çekebilmek için kullanacağımız kütüphane\n",
    "    \n",
    "import requests                 # İnternet sitesine istek atabilmek için kullanacağımız kütüphane\n",
    "import json                     # json dosya formatını düzenlemek için kullanılacak kütüphane"
   ]
  },
  {
   "cell_type": "markdown",
   "metadata": {},
   "source": [
    "## Enlem ve Boylam Verileri"
   ]
  },
  {
   "cell_type": "code",
   "execution_count": 6,
   "metadata": {},
   "outputs": [],
   "source": [
    "url=\"http://api.bart.gov/api/stn.aspx?cmd=stns&key=MW9S-E7SL-26DU-VV8V&json=y\"\n",
    "response=requests.get(url).json()"
   ]
  },
  {
   "cell_type": "code",
   "execution_count": 7,
   "metadata": {},
   "outputs": [],
   "source": [
    "stations = response['root']['stations']['station']\n",
    "gtfs_latitude = []\n",
    "gtfs_longitude = []\n",
    "abbr = []\n",
    "for i in stations:\n",
    "    gtfs_latitude.append(i['gtfs_latitude'])\n",
    "    gtfs_longitude.append(i['gtfs_longitude'])\n",
    "    abbr.append(i['abbr'])\n",
    "\n",
    "dictionary = {'Abbreviation':abbr, 'Latitude':gtfs_latitude, 'Longitude':gtfs_longitude}\n",
    "df = pd.DataFrame(dictionary)"
   ]
  },
  {
   "cell_type": "code",
   "execution_count": 10,
   "metadata": {},
   "outputs": [
    {
     "data": {
      "text/html": [
       "<div>\n",
       "<style scoped>\n",
       "    .dataframe tbody tr th:only-of-type {\n",
       "        vertical-align: middle;\n",
       "    }\n",
       "\n",
       "    .dataframe tbody tr th {\n",
       "        vertical-align: top;\n",
       "    }\n",
       "\n",
       "    .dataframe thead th {\n",
       "        text-align: right;\n",
       "    }\n",
       "</style>\n",
       "<table border=\"1\" class=\"dataframe\">\n",
       "  <thead>\n",
       "    <tr style=\"text-align: right;\">\n",
       "      <th></th>\n",
       "      <th>Abbreviation</th>\n",
       "      <th>Latitude</th>\n",
       "      <th>Longitude</th>\n",
       "    </tr>\n",
       "  </thead>\n",
       "  <tbody>\n",
       "    <tr>\n",
       "      <th>0</th>\n",
       "      <td>12TH</td>\n",
       "      <td>37.803768</td>\n",
       "      <td>-122.271450</td>\n",
       "    </tr>\n",
       "    <tr>\n",
       "      <th>1</th>\n",
       "      <td>16TH</td>\n",
       "      <td>37.765062</td>\n",
       "      <td>-122.419694</td>\n",
       "    </tr>\n",
       "    <tr>\n",
       "      <th>2</th>\n",
       "      <td>19TH</td>\n",
       "      <td>37.808350</td>\n",
       "      <td>-122.268602</td>\n",
       "    </tr>\n",
       "    <tr>\n",
       "      <th>3</th>\n",
       "      <td>24TH</td>\n",
       "      <td>37.752470</td>\n",
       "      <td>-122.418143</td>\n",
       "    </tr>\n",
       "    <tr>\n",
       "      <th>4</th>\n",
       "      <td>ANTC</td>\n",
       "      <td>37.995388</td>\n",
       "      <td>-121.780420</td>\n",
       "    </tr>\n",
       "    <tr>\n",
       "      <th>5</th>\n",
       "      <td>ASHB</td>\n",
       "      <td>37.852803</td>\n",
       "      <td>-122.270062</td>\n",
       "    </tr>\n",
       "    <tr>\n",
       "      <th>6</th>\n",
       "      <td>BALB</td>\n",
       "      <td>37.721585</td>\n",
       "      <td>-122.447506</td>\n",
       "    </tr>\n",
       "    <tr>\n",
       "      <th>7</th>\n",
       "      <td>BAYF</td>\n",
       "      <td>37.696924</td>\n",
       "      <td>-122.126514</td>\n",
       "    </tr>\n",
       "    <tr>\n",
       "      <th>8</th>\n",
       "      <td>BERY</td>\n",
       "      <td>37.368473</td>\n",
       "      <td>-121.874681</td>\n",
       "    </tr>\n",
       "    <tr>\n",
       "      <th>9</th>\n",
       "      <td>CAST</td>\n",
       "      <td>37.690746</td>\n",
       "      <td>-122.075602</td>\n",
       "    </tr>\n",
       "    <tr>\n",
       "      <th>10</th>\n",
       "      <td>CIVC</td>\n",
       "      <td>37.779732</td>\n",
       "      <td>-122.414123</td>\n",
       "    </tr>\n",
       "    <tr>\n",
       "      <th>11</th>\n",
       "      <td>COLS</td>\n",
       "      <td>37.753661</td>\n",
       "      <td>-122.196869</td>\n",
       "    </tr>\n",
       "    <tr>\n",
       "      <th>12</th>\n",
       "      <td>COLM</td>\n",
       "      <td>37.684638</td>\n",
       "      <td>-122.466233</td>\n",
       "    </tr>\n",
       "    <tr>\n",
       "      <th>13</th>\n",
       "      <td>CONC</td>\n",
       "      <td>37.973737</td>\n",
       "      <td>-122.029095</td>\n",
       "    </tr>\n",
       "    <tr>\n",
       "      <th>14</th>\n",
       "      <td>DALY</td>\n",
       "      <td>37.706121</td>\n",
       "      <td>-122.469081</td>\n",
       "    </tr>\n",
       "  </tbody>\n",
       "</table>\n",
       "</div>"
      ],
      "text/plain": [
       "   Abbreviation   Latitude    Longitude\n",
       "0          12TH  37.803768  -122.271450\n",
       "1          16TH  37.765062  -122.419694\n",
       "2          19TH  37.808350  -122.268602\n",
       "3          24TH  37.752470  -122.418143\n",
       "4          ANTC  37.995388  -121.780420\n",
       "5          ASHB  37.852803  -122.270062\n",
       "6          BALB  37.721585  -122.447506\n",
       "7          BAYF  37.696924  -122.126514\n",
       "8          BERY  37.368473  -121.874681\n",
       "9          CAST  37.690746  -122.075602\n",
       "10         CIVC  37.779732  -122.414123\n",
       "11         COLS  37.753661  -122.196869\n",
       "12         COLM  37.684638  -122.466233\n",
       "13         CONC  37.973737  -122.029095\n",
       "14         DALY  37.706121  -122.469081"
      ]
     },
     "execution_count": 10,
     "metadata": {},
     "output_type": "execute_result"
    }
   ],
   "source": [
    "df.head(15) # Şu anda elimizde 50 adet istasyonun enlem ve boylam verisi var"
   ]
  },
  {
   "cell_type": "markdown",
   "metadata": {},
   "source": [
    "**Bu istasyonlar arası kombinasyonları yani birbirleri arasındaki mesafeyi hesaplayabilmek için bunları hepsinden oluşabilecek kombinasyonları bulmamız gerek**"
   ]
  },
  {
   "cell_type": "code",
   "execution_count": 11,
   "metadata": {},
   "outputs": [],
   "source": [
    "import itertools"
   ]
  },
  {
   "cell_type": "code",
   "execution_count": 12,
   "metadata": {},
   "outputs": [
    {
     "data": {
      "text/plain": [
       "0       ([12TH, 37.803768, -122.271450], [16TH, 37.765...\n",
       "1       ([12TH, 37.803768, -122.271450], [19TH, 37.808...\n",
       "2       ([12TH, 37.803768, -122.271450], [24TH, 37.752...\n",
       "3       ([12TH, 37.803768, -122.271450], [ANTC, 37.995...\n",
       "4       ([12TH, 37.803768, -122.271450], [ASHB, 37.852...\n",
       "                              ...                        \n",
       "2445    ([WOAK, 37.804872, -122.295140], [SSAN, 37.664...\n",
       "2446    ([WOAK, 37.804872, -122.295140], [UCTY, 37.590...\n",
       "2447    ([WOAK, 37.804872, -122.295140], [WCRK, 37.905...\n",
       "2448    ([WOAK, 37.804872, -122.295140], [WARM, 37.502...\n",
       "2449    ([WOAK, 37.804872, -122.295140], [WDUB, 37.699...\n",
       "Name: permutations, Length: 2450, dtype: object"
      ]
     },
     "execution_count": 12,
     "metadata": {},
     "output_type": "execute_result"
    }
   ],
   "source": [
    "routes = pd.DataFrame()\n",
    "\n",
    "routes['permutations']=list(itertools.permutations(df.values,2))\n",
    "routes['permutations']"
   ]
  },
  {
   "cell_type": "code",
   "execution_count": 14,
   "metadata": {},
   "outputs": [],
   "source": [
    "liste=list()\n",
    "for i in routes['permutations']:\n",
    "    liste.append(i[0][0]+\" -> \"+i[1][0])\n",
    "\n",
    "routes['route'] = liste"
   ]
  },
  {
   "cell_type": "code",
   "execution_count": 15,
   "metadata": {},
   "outputs": [
    {
     "data": {
      "text/plain": [
       "0       12TH -> 16TH\n",
       "1       12TH -> 19TH\n",
       "2       12TH -> 24TH\n",
       "3       12TH -> ANTC\n",
       "4       12TH -> ASHB\n",
       "            ...     \n",
       "2445    WOAK -> SSAN\n",
       "2446    WOAK -> UCTY\n",
       "2447    WOAK -> WCRK\n",
       "2448    WOAK -> WARM\n",
       "2449    WOAK -> WDUB\n",
       "Name: route, Length: 2450, dtype: object"
      ]
     },
     "execution_count": 15,
     "metadata": {},
     "output_type": "execute_result"
    }
   ],
   "source": [
    "routes['route']"
   ]
  },
  {
   "cell_type": "markdown",
   "metadata": {},
   "source": [
    "**Bu işlemler sayesinde herbir istasyonun arasında oluşabilecek kombinasyonları bulmuş olduk, bu da elimizde 2450 adet hesaplanması gereken işlem verdi**"
   ]
  },
  {
   "cell_type": "code",
   "execution_count": 16,
   "metadata": {},
   "outputs": [
    {
     "data": {
      "text/html": [
       "<div>\n",
       "<style scoped>\n",
       "    .dataframe tbody tr th:only-of-type {\n",
       "        vertical-align: middle;\n",
       "    }\n",
       "\n",
       "    .dataframe tbody tr th {\n",
       "        vertical-align: top;\n",
       "    }\n",
       "\n",
       "    .dataframe thead th {\n",
       "        text-align: right;\n",
       "    }\n",
       "</style>\n",
       "<table border=\"1\" class=\"dataframe\">\n",
       "  <thead>\n",
       "    <tr style=\"text-align: right;\">\n",
       "      <th></th>\n",
       "      <th>permutations</th>\n",
       "      <th>route</th>\n",
       "    </tr>\n",
       "  </thead>\n",
       "  <tbody>\n",
       "    <tr>\n",
       "      <th>0</th>\n",
       "      <td>([12TH, 37.803768, -122.271450], [16TH, 37.765...</td>\n",
       "      <td>12TH -&gt; 16TH</td>\n",
       "    </tr>\n",
       "    <tr>\n",
       "      <th>1</th>\n",
       "      <td>([12TH, 37.803768, -122.271450], [19TH, 37.808...</td>\n",
       "      <td>12TH -&gt; 19TH</td>\n",
       "    </tr>\n",
       "    <tr>\n",
       "      <th>2</th>\n",
       "      <td>([12TH, 37.803768, -122.271450], [24TH, 37.752...</td>\n",
       "      <td>12TH -&gt; 24TH</td>\n",
       "    </tr>\n",
       "    <tr>\n",
       "      <th>3</th>\n",
       "      <td>([12TH, 37.803768, -122.271450], [ANTC, 37.995...</td>\n",
       "      <td>12TH -&gt; ANTC</td>\n",
       "    </tr>\n",
       "    <tr>\n",
       "      <th>4</th>\n",
       "      <td>([12TH, 37.803768, -122.271450], [ASHB, 37.852...</td>\n",
       "      <td>12TH -&gt; ASHB</td>\n",
       "    </tr>\n",
       "    <tr>\n",
       "      <th>...</th>\n",
       "      <td>...</td>\n",
       "      <td>...</td>\n",
       "    </tr>\n",
       "    <tr>\n",
       "      <th>2445</th>\n",
       "      <td>([WOAK, 37.804872, -122.295140], [SSAN, 37.664...</td>\n",
       "      <td>WOAK -&gt; SSAN</td>\n",
       "    </tr>\n",
       "    <tr>\n",
       "      <th>2446</th>\n",
       "      <td>([WOAK, 37.804872, -122.295140], [UCTY, 37.590...</td>\n",
       "      <td>WOAK -&gt; UCTY</td>\n",
       "    </tr>\n",
       "    <tr>\n",
       "      <th>2447</th>\n",
       "      <td>([WOAK, 37.804872, -122.295140], [WCRK, 37.905...</td>\n",
       "      <td>WOAK -&gt; WCRK</td>\n",
       "    </tr>\n",
       "    <tr>\n",
       "      <th>2448</th>\n",
       "      <td>([WOAK, 37.804872, -122.295140], [WARM, 37.502...</td>\n",
       "      <td>WOAK -&gt; WARM</td>\n",
       "    </tr>\n",
       "    <tr>\n",
       "      <th>2449</th>\n",
       "      <td>([WOAK, 37.804872, -122.295140], [WDUB, 37.699...</td>\n",
       "      <td>WOAK -&gt; WDUB</td>\n",
       "    </tr>\n",
       "  </tbody>\n",
       "</table>\n",
       "<p>2450 rows × 2 columns</p>\n",
       "</div>"
      ],
      "text/plain": [
       "                                           permutations         route\n",
       "0     ([12TH, 37.803768, -122.271450], [16TH, 37.765...  12TH -> 16TH\n",
       "1     ([12TH, 37.803768, -122.271450], [19TH, 37.808...  12TH -> 19TH\n",
       "2     ([12TH, 37.803768, -122.271450], [24TH, 37.752...  12TH -> 24TH\n",
       "3     ([12TH, 37.803768, -122.271450], [ANTC, 37.995...  12TH -> ANTC\n",
       "4     ([12TH, 37.803768, -122.271450], [ASHB, 37.852...  12TH -> ASHB\n",
       "...                                                 ...           ...\n",
       "2445  ([WOAK, 37.804872, -122.295140], [SSAN, 37.664...  WOAK -> SSAN\n",
       "2446  ([WOAK, 37.804872, -122.295140], [UCTY, 37.590...  WOAK -> UCTY\n",
       "2447  ([WOAK, 37.804872, -122.295140], [WCRK, 37.905...  WOAK -> WCRK\n",
       "2448  ([WOAK, 37.804872, -122.295140], [WARM, 37.502...  WOAK -> WARM\n",
       "2449  ([WOAK, 37.804872, -122.295140], [WDUB, 37.699...  WOAK -> WDUB\n",
       "\n",
       "[2450 rows x 2 columns]"
      ]
     },
     "execution_count": 16,
     "metadata": {},
     "output_type": "execute_result"
    }
   ],
   "source": [
    "routes"
   ]
  },
  {
   "cell_type": "markdown",
   "metadata": {},
   "source": [
    "# Selenium"
   ]
  },
  {
   "cell_type": "code",
   "execution_count": 17,
   "metadata": {},
   "outputs": [],
   "source": [
    "from selenium import webdriver\n",
    "from selenium.webdriver.common.keys import Keys\n",
    "import time\n",
    "\n",
    "path = r\"Bu kısma kendi bilgisayarınızdaki chrom driver'ının yolunu eklemeniz gerek\""
   ]
  },
  {
   "cell_type": "code",
   "execution_count": 22,
   "metadata": {},
   "outputs": [],
   "source": [
    "driver = webdriver.Chrome(r\"C:\\Users\\MONSTERHAN\\Documents\\GitHub\\MachineLearning-WebScrapping-NLP\\TR\\Selenium-ile-Veri-Otomasyonu\\chromedriver.exe\")\n",
    "driver.get(\"https://www.tarimziraat.com/tarimsal_harita_uygulamalari/haritadan_iki_nokta_arasi_olcumu.php\")\n",
    "time.sleep(2)\n",
    "\n",
    "distance= list()\n",
    "\n",
    "for i in routes['permutations']:\n",
    "    \n",
    "    enlem1=driver.find_element_by_xpath('//*[@id=\"enlem1\"]').clear()\n",
    "    enlem2=driver.find_element_by_xpath('//*[@id=\"enlem2\"]').clear()\n",
    "    boylam1=driver.find_element_by_xpath('//*[@id=\"boylam1\"]').clear()\n",
    "    boylam2=driver.find_element_by_xpath('//*[@id=\"boylam2\"]').clear()\n",
    "    \n",
    "    enlem1=driver.find_element_by_xpath('//*[@id=\"enlem1\"]').send_keys(i[0][1])\n",
    "    enlem2=driver.find_element_by_xpath('//*[@id=\"enlem2\"]').send_keys(i[1][1])\n",
    "    boylam1=driver.find_element_by_xpath('//*[@id=\"boylam1\"]').send_keys(i[0][2])\n",
    "    boylam2=driver.find_element_by_xpath('//*[@id=\"boylam2\"]').send_keys(i[1][2])\n",
    "    buton1=driver.find_element_by_xpath('//*[@id=\"buton2\"]')\n",
    "    buton1.click()\n",
    "    sonuc = driver.find_element_by_xpath('//*[@id=\"sonuc\"]/b')\n",
    "    distance.append(sonuc.text)\n",
    "routes['distances'] = distance"
   ]
  },
  {
   "cell_type": "markdown",
   "metadata": {},
   "source": [
    "**Bu kodları çalıştırdığımızda (selenium direver dosyası bilgisayarınızda olması gerekiyor) bir browser dosyası açılacak ve otomatik bir şekilde enlem ve boylamlar kullanılarak routes isimli veri setindeki yeni bir sütuna karşılıları yazılıyor**"
   ]
  },
  {
   "cell_type": "markdown",
   "metadata": {},
   "source": [
    "![image](driver.png)"
   ]
  },
  {
   "cell_type": "code",
   "execution_count": 27,
   "metadata": {},
   "outputs": [],
   "source": [
    "routes.to_csv('pause.csv')  # Burada bir yedekleme yaptım çünkü az önce yaptığımız işlem uzun sürüyor"
   ]
  },
  {
   "cell_type": "code",
   "execution_count": 33,
   "metadata": {},
   "outputs": [],
   "source": [
    "routes = pd.read_csv('pause.csv').drop(['Unnamed: 0', 'Unnamed: 0.1'], axis=1)"
   ]
  },
  {
   "cell_type": "code",
   "execution_count": 38,
   "metadata": {},
   "outputs": [
    {
     "data": {
      "text/html": [
       "<div>\n",
       "<style scoped>\n",
       "    .dataframe tbody tr th:only-of-type {\n",
       "        vertical-align: middle;\n",
       "    }\n",
       "\n",
       "    .dataframe tbody tr th {\n",
       "        vertical-align: top;\n",
       "    }\n",
       "\n",
       "    .dataframe thead th {\n",
       "        text-align: right;\n",
       "    }\n",
       "</style>\n",
       "<table border=\"1\" class=\"dataframe\">\n",
       "  <thead>\n",
       "    <tr style=\"text-align: right;\">\n",
       "      <th></th>\n",
       "      <th>route</th>\n",
       "      <th>distances</th>\n",
       "    </tr>\n",
       "  </thead>\n",
       "  <tbody>\n",
       "    <tr>\n",
       "      <th>0</th>\n",
       "      <td>12TH -&gt; 16TH</td>\n",
       "      <td>13.736</td>\n",
       "    </tr>\n",
       "    <tr>\n",
       "      <th>1</th>\n",
       "      <td>12TH -&gt; 19TH</td>\n",
       "      <td>568.000</td>\n",
       "    </tr>\n",
       "    <tr>\n",
       "      <th>2</th>\n",
       "      <td>12TH -&gt; 24TH</td>\n",
       "      <td>14.114</td>\n",
       "    </tr>\n",
       "    <tr>\n",
       "      <th>3</th>\n",
       "      <td>12TH -&gt; ANTC</td>\n",
       "      <td>48.119</td>\n",
       "    </tr>\n",
       "    <tr>\n",
       "      <th>4</th>\n",
       "      <td>12TH -&gt; ASHB</td>\n",
       "      <td>5.460</td>\n",
       "    </tr>\n",
       "    <tr>\n",
       "      <th>5</th>\n",
       "      <td>12TH -&gt; BALB</td>\n",
       "      <td>17.993</td>\n",
       "    </tr>\n",
       "    <tr>\n",
       "      <th>6</th>\n",
       "      <td>12TH -&gt; BAYF</td>\n",
       "      <td>17.442</td>\n",
       "    </tr>\n",
       "    <tr>\n",
       "      <th>7</th>\n",
       "      <td>12TH -&gt; BERY</td>\n",
       "      <td>59.775</td>\n",
       "    </tr>\n",
       "    <tr>\n",
       "      <th>8</th>\n",
       "      <td>12TH -&gt; CAST</td>\n",
       "      <td>21.342</td>\n",
       "    </tr>\n",
       "    <tr>\n",
       "      <th>9</th>\n",
       "      <td>12TH -&gt; CIVC</td>\n",
       "      <td>12.833</td>\n",
       "    </tr>\n",
       "  </tbody>\n",
       "</table>\n",
       "</div>"
      ],
      "text/plain": [
       "          route  distances\n",
       "0  12TH -> 16TH     13.736\n",
       "1  12TH -> 19TH    568.000\n",
       "2  12TH -> 24TH     14.114\n",
       "3  12TH -> ANTC     48.119\n",
       "4  12TH -> ASHB      5.460\n",
       "5  12TH -> BALB     17.993\n",
       "6  12TH -> BAYF     17.442\n",
       "7  12TH -> BERY     59.775\n",
       "8  12TH -> CAST     21.342\n",
       "9  12TH -> CIVC     12.833"
      ]
     },
     "execution_count": 38,
     "metadata": {},
     "output_type": "execute_result"
    }
   ],
   "source": [
    "routes[['route', 'distances']].head(10) # head ile sadece ilk 10 tanesini getiriyoruz."
   ]
  },
  {
   "cell_type": "markdown",
   "metadata": {},
   "source": [
    "**Böylelikle her bir istasyonun birbiri arasındaki lineer mesafesini bulmuş olduk**"
   ]
  }
 ],
 "metadata": {
  "kernelspec": {
   "display_name": "Python 3",
   "language": "python",
   "name": "python3"
  },
  "language_info": {
   "codemirror_mode": {
    "name": "ipython",
    "version": 3
   },
   "file_extension": ".py",
   "mimetype": "text/x-python",
   "name": "python",
   "nbconvert_exporter": "python",
   "pygments_lexer": "ipython3",
   "version": "3.8.5"
  }
 },
 "nbformat": 4,
 "nbformat_minor": 4
}
