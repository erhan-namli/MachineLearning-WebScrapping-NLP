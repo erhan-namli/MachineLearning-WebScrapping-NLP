{
 "cells": [
  {
   "cell_type": "markdown",
   "metadata": {},
   "source": [
    "# Makine Öğrenmesi ve Web Scrapping"
   ]
  },
  {
   "cell_type": "markdown",
   "metadata": {},
   "source": [
    "## Kurulum"
   ]
  },
  {
   "cell_type": "code",
   "execution_count": 1,
   "metadata": {},
   "outputs": [],
   "source": [
    "import pandas as pd\n",
    "import requests\n",
    "from bs4 import BeautifulSoup"
   ]
  },
  {
   "cell_type": "code",
   "execution_count": 4,
   "metadata": {},
   "outputs": [],
   "source": [
    "url=\"https://www.hurriyetemlak.com/izmir-kiralik\" # gitmek istediğimiz adres\n",
    "response=requests.get(url)"
   ]
  },
  {
   "cell_type": "markdown",
   "metadata": {},
   "source": [
    "  \n",
    "![image](hurriyet.png)"
   ]
  },
  {
   "cell_type": "markdown",
   "metadata": {},
   "source": [
    "**Ulaşmak istediğimiz veriler yukarıda işaretlediklerim**"
   ]
  },
  {
   "cell_type": "markdown",
   "metadata": {},
   "source": [
    "**Veriler html etiketlerinin içerisinde olduğu için ilk olarak bunları ayırıp etiketlerin arasından bize lazım olanları çekmeliyiz**"
   ]
  },
  {
   "cell_type": "code",
   "execution_count": 5,
   "metadata": {},
   "outputs": [],
   "source": [
    "soup=BeautifulSoup(response.text, \"html.parser\")"
   ]
  },
  {
   "cell_type": "markdown",
   "metadata": {},
   "source": [
    "**Fiyat**"
   ]
  },
  {
   "cell_type": "code",
   "execution_count": 14,
   "metadata": {},
   "outputs": [],
   "source": [
    "price = soup.findAll(\"div\",{\"class\":\"list-view-price\"}) "
   ]
  },
  {
   "cell_type": "markdown",
   "metadata": {},
   "source": [
    "**Oda sayısı**"
   ]
  },
  {
   "cell_type": "code",
   "execution_count": 7,
   "metadata": {},
   "outputs": [],
   "source": [
    "room = soup.findAll(\"span\", {\"class\":\"houseRoomCount\"})"
   ]
  },
  {
   "cell_type": "markdown",
   "metadata": {},
   "source": [
    "**Metre Kare**"
   ]
  },
  {
   "cell_type": "code",
   "execution_count": 8,
   "metadata": {},
   "outputs": [],
   "source": [
    "viewsize = soup.findAll(\"span\", {\"class\":\"list-view-size\"})"
   ]
  },
  {
   "cell_type": "markdown",
   "metadata": {},
   "source": [
    "**Binanın Yaşı**"
   ]
  },
  {
   "cell_type": "code",
   "execution_count": 9,
   "metadata": {},
   "outputs": [],
   "source": [
    "age = soup.findAll(\"span\", {\"class\":\"buildingAge\"})"
   ]
  },
  {
   "cell_type": "markdown",
   "metadata": {},
   "source": [
    "**Kat Sayısı**"
   ]
  },
  {
   "cell_type": "code",
   "execution_count": 10,
   "metadata": {},
   "outputs": [],
   "source": [
    "floortype = soup.findAll(\"span\", {\"class\":\"floortype\"})"
   ]
  },
  {
   "cell_type": "markdown",
   "metadata": {},
   "source": [
    "**Mevki**"
   ]
  },
  {
   "cell_type": "code",
   "execution_count": 11,
   "metadata": {},
   "outputs": [],
   "source": [
    "location = soup.findAll(\"div\",{\"class\":\"list-view-location\"})"
   ]
  },
  {
   "cell_type": "markdown",
   "metadata": {},
   "source": [
    "**İlk sayfadaki verileri altta liste haline getirip bir veri seti haline getiriyoruz**"
   ]
  },
  {
   "cell_type": "code",
   "execution_count": 12,
   "metadata": {},
   "outputs": [],
   "source": [
    "p=[]\n",
    "r=[]\n",
    "v=[]\n",
    "a=[]\n",
    "f=[]\n",
    "l=[]\n",
    "columns=[\"price\", \"room\", \"viewsize\", \"age\", \"floortype\", \"location\"]\n",
    "for (p1, r1, v1, a1, f1, l1) in zip(price, room, viewsize, age, floortype, location):\n",
    "    p.append(p1.text)\n",
    "    r.append(r1.text)\n",
    "    v.append(v1.text)\n",
    "    a.append(a1.text)\n",
    "    f.append(f1.text)\n",
    "    l.append(l1.text)"
   ]
  },
  {
   "cell_type": "code",
   "execution_count": 13,
   "metadata": {},
   "outputs": [
    {
     "data": {
      "text/html": [
       "<div>\n",
       "<style scoped>\n",
       "    .dataframe tbody tr th:only-of-type {\n",
       "        vertical-align: middle;\n",
       "    }\n",
       "\n",
       "    .dataframe tbody tr th {\n",
       "        vertical-align: top;\n",
       "    }\n",
       "\n",
       "    .dataframe thead th {\n",
       "        text-align: right;\n",
       "    }\n",
       "</style>\n",
       "<table border=\"1\" class=\"dataframe\">\n",
       "  <thead>\n",
       "    <tr style=\"text-align: right;\">\n",
       "      <th></th>\n",
       "      <th>Price</th>\n",
       "      <th>Room</th>\n",
       "      <th>View Size</th>\n",
       "      <th>Age</th>\n",
       "      <th>Floortype</th>\n",
       "      <th>Location</th>\n",
       "    </tr>\n",
       "  </thead>\n",
       "  <tbody>\n",
       "    <tr>\n",
       "      <th>0</th>\n",
       "      <td>\\n              2.500 TL</td>\n",
       "      <td>3 + 1</td>\n",
       "      <td>\\n                      135 m2</td>\n",
       "      <td>30 Yaşında</td>\n",
       "      <td>1. Kat</td>\n",
       "      <td>\\n                  Bornova,\\n                ...</td>\n",
       "    </tr>\n",
       "    <tr>\n",
       "      <th>1</th>\n",
       "      <td>\\n              2.500 TL</td>\n",
       "      <td>3 + 1</td>\n",
       "      <td>\\n                      130 m2</td>\n",
       "      <td>17 Yaşında</td>\n",
       "      <td>6. Kat</td>\n",
       "      <td>\\n                  Bornova,\\n                ...</td>\n",
       "    </tr>\n",
       "    <tr>\n",
       "      <th>2</th>\n",
       "      <td>\\n              145.000 TL</td>\n",
       "      <td>3 + 1</td>\n",
       "      <td>\\n                      160 m2</td>\n",
       "      <td>7 Yaşında</td>\n",
       "      <td></td>\n",
       "      <td>\\n                  Çeşme,\\n                 \\...</td>\n",
       "    </tr>\n",
       "    <tr>\n",
       "      <th>3</th>\n",
       "      <td>\\n              1.000 TL</td>\n",
       "      <td>1 + 1</td>\n",
       "      <td>\\n                      60 m2</td>\n",
       "      <td>2 Yaşında</td>\n",
       "      <td>3. Kat</td>\n",
       "      <td>\\n                  Buca,\\n                 \\n...</td>\n",
       "    </tr>\n",
       "    <tr>\n",
       "      <th>4</th>\n",
       "      <td>\\n              1.200 TL</td>\n",
       "      <td>1 + 1</td>\n",
       "      <td>\\n                      60 m2</td>\n",
       "      <td>Sıfır Bina</td>\n",
       "      <td>1. Kat</td>\n",
       "      <td>\\n                  Buca,\\n                 \\n...</td>\n",
       "    </tr>\n",
       "    <tr>\n",
       "      <th>5</th>\n",
       "      <td>\\n              1.500 TL</td>\n",
       "      <td>3 + 1</td>\n",
       "      <td>\\n                      130 m2</td>\n",
       "      <td>25 Yaşında</td>\n",
       "      <td>Yüksek Giriş</td>\n",
       "      <td>\\n                  Buca,\\n                 \\n...</td>\n",
       "    </tr>\n",
       "    <tr>\n",
       "      <th>6</th>\n",
       "      <td>\\n              100.000 TL</td>\n",
       "      <td>4 + 2</td>\n",
       "      <td>\\n                      460 m2</td>\n",
       "      <td>Sıfır Bina</td>\n",
       "      <td></td>\n",
       "      <td>\\n                  Çeşme,\\n                 \\...</td>\n",
       "    </tr>\n",
       "    <tr>\n",
       "      <th>7</th>\n",
       "      <td>\\n              1.850 TL</td>\n",
       "      <td>3 + 1</td>\n",
       "      <td>\\n                      100 m2</td>\n",
       "      <td>25 Yaşında</td>\n",
       "      <td>Yüksek Giriş</td>\n",
       "      <td>\\n                  Narlıdere,\\n              ...</td>\n",
       "    </tr>\n",
       "    <tr>\n",
       "      <th>8</th>\n",
       "      <td>\\n              3.400 TL</td>\n",
       "      <td>3 + 1</td>\n",
       "      <td>\\n                      110 m2</td>\n",
       "      <td>20 Yaşında</td>\n",
       "      <td>1. Kat</td>\n",
       "      <td>\\n                  Konak,\\n                 \\...</td>\n",
       "    </tr>\n",
       "    <tr>\n",
       "      <th>9</th>\n",
       "      <td>\\n              140.000 TL</td>\n",
       "      <td>4 + 1</td>\n",
       "      <td>\\n                      310 m2</td>\n",
       "      <td>Sıfır Bina</td>\n",
       "      <td></td>\n",
       "      <td>\\n                  Çeşme,\\n                 \\...</td>\n",
       "    </tr>\n",
       "    <tr>\n",
       "      <th>10</th>\n",
       "      <td>\\n              140.000 TL</td>\n",
       "      <td>3 + 1</td>\n",
       "      <td>\\n                      315 m2</td>\n",
       "      <td>5 Yaşında</td>\n",
       "      <td></td>\n",
       "      <td>\\n                  Çeşme,\\n                 \\...</td>\n",
       "    </tr>\n",
       "    <tr>\n",
       "      <th>11</th>\n",
       "      <td>\\n              170.000 TL</td>\n",
       "      <td>3 + 1</td>\n",
       "      <td>\\n                      130 m2</td>\n",
       "      <td>1 Yaşında</td>\n",
       "      <td></td>\n",
       "      <td>\\n                  Çeşme,\\n                 \\...</td>\n",
       "    </tr>\n",
       "    <tr>\n",
       "      <th>12</th>\n",
       "      <td>\\n              150.000 TL</td>\n",
       "      <td>3 + 1</td>\n",
       "      <td>\\n                      140 m2</td>\n",
       "      <td>5 Yaşında</td>\n",
       "      <td></td>\n",
       "      <td>\\n                  Çeşme,\\n                 \\...</td>\n",
       "    </tr>\n",
       "    <tr>\n",
       "      <th>13</th>\n",
       "      <td>\\n              1.900 TL</td>\n",
       "      <td>2 + 1</td>\n",
       "      <td>\\n                      95 m2</td>\n",
       "      <td>Sıfır Bina</td>\n",
       "      <td>1. Kat</td>\n",
       "      <td>\\n                  Buca,\\n                 \\n...</td>\n",
       "    </tr>\n",
       "    <tr>\n",
       "      <th>14</th>\n",
       "      <td>\\n              2.000 TL</td>\n",
       "      <td>3 + 1</td>\n",
       "      <td>\\n                      125 m2</td>\n",
       "      <td>30 Yaşında</td>\n",
       "      <td>Ara Kat</td>\n",
       "      <td>\\n                  Bayraklı,\\n               ...</td>\n",
       "    </tr>\n",
       "    <tr>\n",
       "      <th>15</th>\n",
       "      <td>\\n              24.000 TL</td>\n",
       "      <td>1 + 1</td>\n",
       "      <td>\\n                      65 m2</td>\n",
       "      <td>10 Yaşında</td>\n",
       "      <td></td>\n",
       "      <td>\\n                  Çeşme,\\n                 \\...</td>\n",
       "    </tr>\n",
       "    <tr>\n",
       "      <th>16</th>\n",
       "      <td>\\n              1.750 TL</td>\n",
       "      <td>3 + 1</td>\n",
       "      <td>\\n                      130 m2</td>\n",
       "      <td>25 Yaşında</td>\n",
       "      <td>5. Kat</td>\n",
       "      <td>\\n                  Bornova,\\n                ...</td>\n",
       "    </tr>\n",
       "    <tr>\n",
       "      <th>17</th>\n",
       "      <td>\\n              1.600 TL</td>\n",
       "      <td>3 + 1</td>\n",
       "      <td>\\n                      120 m2</td>\n",
       "      <td>30 Yaşında</td>\n",
       "      <td>4. Kat</td>\n",
       "      <td>\\n                  Bornova,\\n                ...</td>\n",
       "    </tr>\n",
       "    <tr>\n",
       "      <th>18</th>\n",
       "      <td>\\n              2.150 TL</td>\n",
       "      <td>1 + 1</td>\n",
       "      <td>\\n                      65 m2</td>\n",
       "      <td>15 Yaşında</td>\n",
       "      <td>2. Kat</td>\n",
       "      <td>\\n                  Karşıyaka,\\n              ...</td>\n",
       "    </tr>\n",
       "    <tr>\n",
       "      <th>19</th>\n",
       "      <td>\\n              2.000 TL</td>\n",
       "      <td>3 + 1</td>\n",
       "      <td>\\n                      120 m2</td>\n",
       "      <td>25 Yaşında</td>\n",
       "      <td>1. Kat</td>\n",
       "      <td>\\n                  Balçova,\\n                ...</td>\n",
       "    </tr>\n",
       "    <tr>\n",
       "      <th>20</th>\n",
       "      <td>\\n              2.700 TL</td>\n",
       "      <td>2 + 1</td>\n",
       "      <td>\\n                      85 m2</td>\n",
       "      <td>7 Yaşında</td>\n",
       "      <td>3. Kat</td>\n",
       "      <td>\\n                  Karşıyaka,\\n              ...</td>\n",
       "    </tr>\n",
       "    <tr>\n",
       "      <th>21</th>\n",
       "      <td>\\n              1.300 TL</td>\n",
       "      <td>1 + 1</td>\n",
       "      <td>\\n                      50 m2</td>\n",
       "      <td>4 Yaşında</td>\n",
       "      <td>6. Kat</td>\n",
       "      <td>\\n                  Aliağa,\\n                 ...</td>\n",
       "    </tr>\n",
       "    <tr>\n",
       "      <th>22</th>\n",
       "      <td>\\n              3.000 TL</td>\n",
       "      <td>3 + 1</td>\n",
       "      <td>\\n                      125 m2</td>\n",
       "      <td>22 Yaşında</td>\n",
       "      <td>6. Kat</td>\n",
       "      <td>\\n                  Balçova,\\n                ...</td>\n",
       "    </tr>\n",
       "    <tr>\n",
       "      <th>23</th>\n",
       "      <td>\\n              1.450 TL</td>\n",
       "      <td>1 + 1</td>\n",
       "      <td>\\n                      60 m2</td>\n",
       "      <td>1 Yaşında</td>\n",
       "      <td>2. Kat</td>\n",
       "      <td>\\n                  Bornova,\\n                ...</td>\n",
       "    </tr>\n",
       "  </tbody>\n",
       "</table>\n",
       "</div>"
      ],
      "text/plain": [
       "                         Price   Room                       View Size  \\\n",
       "0     \\n              2.500 TL  3 + 1  \\n                      135 m2   \n",
       "1     \\n              2.500 TL  3 + 1  \\n                      130 m2   \n",
       "2   \\n              145.000 TL  3 + 1  \\n                      160 m2   \n",
       "3     \\n              1.000 TL  1 + 1   \\n                      60 m2   \n",
       "4     \\n              1.200 TL  1 + 1   \\n                      60 m2   \n",
       "5     \\n              1.500 TL  3 + 1  \\n                      130 m2   \n",
       "6   \\n              100.000 TL  4 + 2  \\n                      460 m2   \n",
       "7     \\n              1.850 TL  3 + 1  \\n                      100 m2   \n",
       "8     \\n              3.400 TL  3 + 1  \\n                      110 m2   \n",
       "9   \\n              140.000 TL  4 + 1  \\n                      310 m2   \n",
       "10  \\n              140.000 TL  3 + 1  \\n                      315 m2   \n",
       "11  \\n              170.000 TL  3 + 1  \\n                      130 m2   \n",
       "12  \\n              150.000 TL  3 + 1  \\n                      140 m2   \n",
       "13    \\n              1.900 TL  2 + 1   \\n                      95 m2   \n",
       "14    \\n              2.000 TL  3 + 1  \\n                      125 m2   \n",
       "15   \\n              24.000 TL  1 + 1   \\n                      65 m2   \n",
       "16    \\n              1.750 TL  3 + 1  \\n                      130 m2   \n",
       "17    \\n              1.600 TL  3 + 1  \\n                      120 m2   \n",
       "18    \\n              2.150 TL  1 + 1   \\n                      65 m2   \n",
       "19    \\n              2.000 TL  3 + 1  \\n                      120 m2   \n",
       "20    \\n              2.700 TL  2 + 1   \\n                      85 m2   \n",
       "21    \\n              1.300 TL  1 + 1   \\n                      50 m2   \n",
       "22    \\n              3.000 TL  3 + 1  \\n                      125 m2   \n",
       "23    \\n              1.450 TL  1 + 1   \\n                      60 m2   \n",
       "\n",
       "           Age      Floortype  \\\n",
       "0   30 Yaşında         1. Kat   \n",
       "1   17 Yaşında         6. Kat   \n",
       "2    7 Yaşında                  \n",
       "3    2 Yaşında         3. Kat   \n",
       "4   Sıfır Bina         1. Kat   \n",
       "5   25 Yaşında   Yüksek Giriş   \n",
       "6   Sıfır Bina                  \n",
       "7   25 Yaşında   Yüksek Giriş   \n",
       "8   20 Yaşında         1. Kat   \n",
       "9   Sıfır Bina                  \n",
       "10   5 Yaşında                  \n",
       "11   1 Yaşında                  \n",
       "12   5 Yaşında                  \n",
       "13  Sıfır Bina         1. Kat   \n",
       "14  30 Yaşında        Ara Kat   \n",
       "15  10 Yaşında                  \n",
       "16  25 Yaşında         5. Kat   \n",
       "17  30 Yaşında         4. Kat   \n",
       "18  15 Yaşında         2. Kat   \n",
       "19  25 Yaşında         1. Kat   \n",
       "20   7 Yaşında         3. Kat   \n",
       "21   4 Yaşında         6. Kat   \n",
       "22  22 Yaşında         6. Kat   \n",
       "23   1 Yaşında         2. Kat   \n",
       "\n",
       "                                             Location  \n",
       "0   \\n                  Bornova,\\n                ...  \n",
       "1   \\n                  Bornova,\\n                ...  \n",
       "2   \\n                  Çeşme,\\n                 \\...  \n",
       "3   \\n                  Buca,\\n                 \\n...  \n",
       "4   \\n                  Buca,\\n                 \\n...  \n",
       "5   \\n                  Buca,\\n                 \\n...  \n",
       "6   \\n                  Çeşme,\\n                 \\...  \n",
       "7   \\n                  Narlıdere,\\n              ...  \n",
       "8   \\n                  Konak,\\n                 \\...  \n",
       "9   \\n                  Çeşme,\\n                 \\...  \n",
       "10  \\n                  Çeşme,\\n                 \\...  \n",
       "11  \\n                  Çeşme,\\n                 \\...  \n",
       "12  \\n                  Çeşme,\\n                 \\...  \n",
       "13  \\n                  Buca,\\n                 \\n...  \n",
       "14  \\n                  Bayraklı,\\n               ...  \n",
       "15  \\n                  Çeşme,\\n                 \\...  \n",
       "16  \\n                  Bornova,\\n                ...  \n",
       "17  \\n                  Bornova,\\n                ...  \n",
       "18  \\n                  Karşıyaka,\\n              ...  \n",
       "19  \\n                  Balçova,\\n                ...  \n",
       "20  \\n                  Karşıyaka,\\n              ...  \n",
       "21  \\n                  Aliağa,\\n                 ...  \n",
       "22  \\n                  Balçova,\\n                ...  \n",
       "23  \\n                  Bornova,\\n                ...  "
      ]
     },
     "execution_count": 13,
     "metadata": {},
     "output_type": "execute_result"
    }
   ],
   "source": [
    "d={\"Price\":p, \"Room\":r, \"View Size\":v, \"Age\":a, \"Floortype\":f, \"Location\":l}\n",
    "df=pd.DataFrame(d)\n",
    "df"
   ]
  },
  {
   "cell_type": "markdown",
   "metadata": {},
   "source": [
    "**Tabii veriler sadece ilk sayfa ile sınırlı değil, bu verilerin bir sonraki sayfalardaki değerlerini de alabilmek için bir döngü kullanmamız şart.**"
   ]
  },
  {
   "cell_type": "code",
   "execution_count": 16,
   "metadata": {},
   "outputs": [],
   "source": [
    "p_list = []\n",
    "r_list = []\n",
    "v_list = []\n",
    "a_list = []\n",
    "f_list = []\n",
    "l_list = []\n",
    "for i in range(2,195):\n",
    "    url_=\"https://www.hurriyetemlak.com/izmir-kiralik?page={}\".format(i)\n",
    "    response=requests.get(url)\n",
    "    soup=BeautifulSoup(response.text, \"html.parser\")\n",
    "    soup.beautify\n",
    "    price = soup.findAll(\"div\",{\"class\":\"list-view-price\"})\n",
    "    room = soup.findAll(\"span\", {\"class\":\"houseRoomCount\"})\n",
    "    viewsize = soup.findAll(\"span\", {\"class\":\"list-view-size\"})\n",
    "    age = soup.findAll(\"span\", {\"class\":\"buildingAge\"})\n",
    "    floortype = soup.findAll(\"span\", {\"class\":\"floortype\"})\n",
    "    location = soup.findAll(\"div\",{\"class\":\"list-view-location\"})\n",
    "    for (p1, r1, v1, a1, f1, l1) in zip(price, room, viewsize, age, floortype, location):\n",
    "        p_list.append(p1.text)\n",
    "        r_list.append(r1.text)\n",
    "        v_list.append(v1.text)\n",
    "        a_list.append(a1.text)\n",
    "        f_list.append(f1.text)\n",
    "        l_list.append(l1.text)"
   ]
  },
  {
   "cell_type": "code",
   "execution_count": 17,
   "metadata": {},
   "outputs": [
    {
     "data": {
      "text/html": [
       "<div>\n",
       "<style scoped>\n",
       "    .dataframe tbody tr th:only-of-type {\n",
       "        vertical-align: middle;\n",
       "    }\n",
       "\n",
       "    .dataframe tbody tr th {\n",
       "        vertical-align: top;\n",
       "    }\n",
       "\n",
       "    .dataframe thead th {\n",
       "        text-align: right;\n",
       "    }\n",
       "</style>\n",
       "<table border=\"1\" class=\"dataframe\">\n",
       "  <thead>\n",
       "    <tr style=\"text-align: right;\">\n",
       "      <th></th>\n",
       "      <th>Price</th>\n",
       "      <th>Room</th>\n",
       "      <th>View Size</th>\n",
       "      <th>Age</th>\n",
       "      <th>Floortype</th>\n",
       "      <th>Location</th>\n",
       "    </tr>\n",
       "  </thead>\n",
       "  <tbody>\n",
       "    <tr>\n",
       "      <th>0</th>\n",
       "      <td>\\n              2.500 TL</td>\n",
       "      <td>3 + 1</td>\n",
       "      <td>\\n                      135 m2</td>\n",
       "      <td>30 Yaşında</td>\n",
       "      <td>1. Kat</td>\n",
       "      <td>\\n                  Bornova,\\n                ...</td>\n",
       "    </tr>\n",
       "    <tr>\n",
       "      <th>1</th>\n",
       "      <td>\\n              2.500 TL</td>\n",
       "      <td>3 + 1</td>\n",
       "      <td>\\n                      130 m2</td>\n",
       "      <td>17 Yaşında</td>\n",
       "      <td>6. Kat</td>\n",
       "      <td>\\n                  Bornova,\\n                ...</td>\n",
       "    </tr>\n",
       "    <tr>\n",
       "      <th>2</th>\n",
       "      <td>\\n              145.000 TL</td>\n",
       "      <td>3 + 1</td>\n",
       "      <td>\\n                      160 m2</td>\n",
       "      <td>7 Yaşında</td>\n",
       "      <td></td>\n",
       "      <td>\\n                  Çeşme,\\n                 \\...</td>\n",
       "    </tr>\n",
       "    <tr>\n",
       "      <th>3</th>\n",
       "      <td>\\n              1.000 TL</td>\n",
       "      <td>1 + 1</td>\n",
       "      <td>\\n                      60 m2</td>\n",
       "      <td>2 Yaşında</td>\n",
       "      <td>3. Kat</td>\n",
       "      <td>\\n                  Buca,\\n                 \\n...</td>\n",
       "    </tr>\n",
       "    <tr>\n",
       "      <th>4</th>\n",
       "      <td>\\n              1.200 TL</td>\n",
       "      <td>1 + 1</td>\n",
       "      <td>\\n                      60 m2</td>\n",
       "      <td>Sıfır Bina</td>\n",
       "      <td>1. Kat</td>\n",
       "      <td>\\n                  Buca,\\n                 \\n...</td>\n",
       "    </tr>\n",
       "    <tr>\n",
       "      <th>...</th>\n",
       "      <td>...</td>\n",
       "      <td>...</td>\n",
       "      <td>...</td>\n",
       "      <td>...</td>\n",
       "      <td>...</td>\n",
       "      <td>...</td>\n",
       "    </tr>\n",
       "    <tr>\n",
       "      <th>4627</th>\n",
       "      <td>\\n              2.000 TL</td>\n",
       "      <td>3 + 1</td>\n",
       "      <td>\\n                      120 m2</td>\n",
       "      <td>25 Yaşında</td>\n",
       "      <td>1. Kat</td>\n",
       "      <td>\\n                  Balçova,\\n                ...</td>\n",
       "    </tr>\n",
       "    <tr>\n",
       "      <th>4628</th>\n",
       "      <td>\\n              2.700 TL</td>\n",
       "      <td>2 + 1</td>\n",
       "      <td>\\n                      85 m2</td>\n",
       "      <td>7 Yaşında</td>\n",
       "      <td>3. Kat</td>\n",
       "      <td>\\n                  Karşıyaka,\\n              ...</td>\n",
       "    </tr>\n",
       "    <tr>\n",
       "      <th>4629</th>\n",
       "      <td>\\n              1.300 TL</td>\n",
       "      <td>1 + 1</td>\n",
       "      <td>\\n                      50 m2</td>\n",
       "      <td>4 Yaşında</td>\n",
       "      <td>6. Kat</td>\n",
       "      <td>\\n                  Aliağa,\\n                 ...</td>\n",
       "    </tr>\n",
       "    <tr>\n",
       "      <th>4630</th>\n",
       "      <td>\\n              3.000 TL</td>\n",
       "      <td>3 + 1</td>\n",
       "      <td>\\n                      125 m2</td>\n",
       "      <td>22 Yaşında</td>\n",
       "      <td>6. Kat</td>\n",
       "      <td>\\n                  Balçova,\\n                ...</td>\n",
       "    </tr>\n",
       "    <tr>\n",
       "      <th>4631</th>\n",
       "      <td>\\n              1.450 TL</td>\n",
       "      <td>1 + 1</td>\n",
       "      <td>\\n                      60 m2</td>\n",
       "      <td>1 Yaşında</td>\n",
       "      <td>2. Kat</td>\n",
       "      <td>\\n                  Bornova,\\n                ...</td>\n",
       "    </tr>\n",
       "  </tbody>\n",
       "</table>\n",
       "<p>4632 rows × 6 columns</p>\n",
       "</div>"
      ],
      "text/plain": [
       "                           Price   Room                       View Size  \\\n",
       "0       \\n              2.500 TL  3 + 1  \\n                      135 m2   \n",
       "1       \\n              2.500 TL  3 + 1  \\n                      130 m2   \n",
       "2     \\n              145.000 TL  3 + 1  \\n                      160 m2   \n",
       "3       \\n              1.000 TL  1 + 1   \\n                      60 m2   \n",
       "4       \\n              1.200 TL  1 + 1   \\n                      60 m2   \n",
       "...                          ...    ...                             ...   \n",
       "4627    \\n              2.000 TL  3 + 1  \\n                      120 m2   \n",
       "4628    \\n              2.700 TL  2 + 1   \\n                      85 m2   \n",
       "4629    \\n              1.300 TL  1 + 1   \\n                      50 m2   \n",
       "4630    \\n              3.000 TL  3 + 1  \\n                      125 m2   \n",
       "4631    \\n              1.450 TL  1 + 1   \\n                      60 m2   \n",
       "\n",
       "             Age Floortype                                           Location  \n",
       "0     30 Yaşında    1. Kat  \\n                  Bornova,\\n                ...  \n",
       "1     17 Yaşında    6. Kat  \\n                  Bornova,\\n                ...  \n",
       "2      7 Yaşında            \\n                  Çeşme,\\n                 \\...  \n",
       "3      2 Yaşında    3. Kat  \\n                  Buca,\\n                 \\n...  \n",
       "4     Sıfır Bina    1. Kat  \\n                  Buca,\\n                 \\n...  \n",
       "...          ...       ...                                                ...  \n",
       "4627  25 Yaşında    1. Kat  \\n                  Balçova,\\n                ...  \n",
       "4628   7 Yaşında    3. Kat  \\n                  Karşıyaka,\\n              ...  \n",
       "4629   4 Yaşında    6. Kat  \\n                  Aliağa,\\n                 ...  \n",
       "4630  22 Yaşında    6. Kat  \\n                  Balçova,\\n                ...  \n",
       "4631   1 Yaşında    2. Kat  \\n                  Bornova,\\n                ...  \n",
       "\n",
       "[4632 rows x 6 columns]"
      ]
     },
     "execution_count": 17,
     "metadata": {},
     "output_type": "execute_result"
    }
   ],
   "source": [
    "p3 = {\"Price\":p_list, \"Room\":r_list, \"View Size\":v_list, \"Age\":a_list, \"Floortype\":f_list, \"Location\":l_list}\n",
    "df = pd.DataFrame(p3)\n",
    "df"
   ]
  },
  {
   "cell_type": "markdown",
   "metadata": {},
   "source": [
    "**Bu işlemler ile basit düzeyde verilerimizi elde ettik, bu kısımdan sonrasında verileri temizleyip modelleme yapma adımları geliyor.**"
   ]
  },
  {
   "cell_type": "markdown",
   "metadata": {},
   "source": [
    "**Verileri kaydetmek adına csv dosyasına dönüştürdüm**"
   ]
  },
  {
   "cell_type": "code",
   "execution_count": 18,
   "metadata": {},
   "outputs": [],
   "source": [
    "df.to_csv('Izmir_House_Prices.csv') # Printed to csv file"
   ]
  },
  {
   "cell_type": "markdown",
   "metadata": {},
   "source": [
    "# Veri Okuması ve Analizi"
   ]
  },
  {
   "cell_type": "markdown",
   "metadata": {},
   "source": [
    "## Kütüphaneler"
   ]
  },
  {
   "cell_type": "code",
   "execution_count": 19,
   "metadata": {},
   "outputs": [],
   "source": [
    "import pandas as pd\n",
    "import seaborn as sns\n",
    "import numpy as np\n",
    "import matplotlib.pyplot as plt\n",
    "import warnings\n",
    "warnings.filterwarnings(\"ignore\")"
   ]
  },
  {
   "cell_type": "markdown",
   "metadata": {},
   "source": [
    "## Veri Kurulumu"
   ]
  },
  {
   "cell_type": "code",
   "execution_count": 20,
   "metadata": {},
   "outputs": [],
   "source": [
    "df = pd.read_csv('Izmir_House_Prices.csv')"
   ]
  },
  {
   "cell_type": "markdown",
   "metadata": {},
   "source": [
    "**İlk analiz**"
   ]
  },
  {
   "cell_type": "code",
   "execution_count": 21,
   "metadata": {},
   "outputs": [
    {
     "name": "stdout",
     "output_type": "stream",
     "text": [
      "<class 'pandas.core.frame.DataFrame'>\n",
      "RangeIndex: 4632 entries, 0 to 4631\n",
      "Data columns (total 7 columns):\n",
      " #   Column      Non-Null Count  Dtype \n",
      "---  ------      --------------  ----- \n",
      " 0   Unnamed: 0  4632 non-null   int64 \n",
      " 1   Price       4632 non-null   object\n",
      " 2   Room        4632 non-null   object\n",
      " 3   View Size   4632 non-null   object\n",
      " 4   Age         4632 non-null   object\n",
      " 5   Floortype   4632 non-null   object\n",
      " 6   Location    4632 non-null   object\n",
      "dtypes: int64(1), object(6)\n",
      "memory usage: 253.4+ KB\n"
     ]
    }
   ],
   "source": [
    "df.info()"
   ]
  },
  {
   "cell_type": "markdown",
   "metadata": {},
   "source": [
    "**Verileri kayıt ederken kendiliğinden Unnamed: 0 isimli bir sütun oluşuyor, bunu silmemiz gerek**"
   ]
  },
  {
   "cell_type": "code",
   "execution_count": 22,
   "metadata": {},
   "outputs": [],
   "source": [
    "del df['Unnamed: 0']"
   ]
  },
  {
   "cell_type": "code",
   "execution_count": 23,
   "metadata": {},
   "outputs": [
    {
     "data": {
      "text/html": [
       "<div>\n",
       "<style scoped>\n",
       "    .dataframe tbody tr th:only-of-type {\n",
       "        vertical-align: middle;\n",
       "    }\n",
       "\n",
       "    .dataframe tbody tr th {\n",
       "        vertical-align: top;\n",
       "    }\n",
       "\n",
       "    .dataframe thead th {\n",
       "        text-align: right;\n",
       "    }\n",
       "</style>\n",
       "<table border=\"1\" class=\"dataframe\">\n",
       "  <thead>\n",
       "    <tr style=\"text-align: right;\">\n",
       "      <th></th>\n",
       "      <th>Price</th>\n",
       "      <th>Room</th>\n",
       "      <th>View Size</th>\n",
       "      <th>Age</th>\n",
       "      <th>Floortype</th>\n",
       "      <th>Location</th>\n",
       "    </tr>\n",
       "  </thead>\n",
       "  <tbody>\n",
       "    <tr>\n",
       "      <th>0</th>\n",
       "      <td>\\n              2.500 TL</td>\n",
       "      <td>3 + 1</td>\n",
       "      <td>\\n                      135 m2</td>\n",
       "      <td>30 Yaşında</td>\n",
       "      <td>1. Kat</td>\n",
       "      <td>\\n                  Bornova,\\n                ...</td>\n",
       "    </tr>\n",
       "    <tr>\n",
       "      <th>1</th>\n",
       "      <td>\\n              2.500 TL</td>\n",
       "      <td>3 + 1</td>\n",
       "      <td>\\n                      130 m2</td>\n",
       "      <td>17 Yaşında</td>\n",
       "      <td>6. Kat</td>\n",
       "      <td>\\n                  Bornova,\\n                ...</td>\n",
       "    </tr>\n",
       "    <tr>\n",
       "      <th>2</th>\n",
       "      <td>\\n              145.000 TL</td>\n",
       "      <td>3 + 1</td>\n",
       "      <td>\\n                      160 m2</td>\n",
       "      <td>7 Yaşında</td>\n",
       "      <td></td>\n",
       "      <td>\\n                  Çeşme,\\n                 \\...</td>\n",
       "    </tr>\n",
       "    <tr>\n",
       "      <th>3</th>\n",
       "      <td>\\n              1.000 TL</td>\n",
       "      <td>1 + 1</td>\n",
       "      <td>\\n                      60 m2</td>\n",
       "      <td>2 Yaşında</td>\n",
       "      <td>3. Kat</td>\n",
       "      <td>\\n                  Buca,\\n                 \\n...</td>\n",
       "    </tr>\n",
       "    <tr>\n",
       "      <th>4</th>\n",
       "      <td>\\n              1.200 TL</td>\n",
       "      <td>1 + 1</td>\n",
       "      <td>\\n                      60 m2</td>\n",
       "      <td>Sıfır Bina</td>\n",
       "      <td>1. Kat</td>\n",
       "      <td>\\n                  Buca,\\n                 \\n...</td>\n",
       "    </tr>\n",
       "  </tbody>\n",
       "</table>\n",
       "</div>"
      ],
      "text/plain": [
       "                        Price   Room                       View Size  \\\n",
       "0    \\n              2.500 TL  3 + 1  \\n                      135 m2   \n",
       "1    \\n              2.500 TL  3 + 1  \\n                      130 m2   \n",
       "2  \\n              145.000 TL  3 + 1  \\n                      160 m2   \n",
       "3    \\n              1.000 TL  1 + 1   \\n                      60 m2   \n",
       "4    \\n              1.200 TL  1 + 1   \\n                      60 m2   \n",
       "\n",
       "          Age Floortype                                           Location  \n",
       "0  30 Yaşında    1. Kat  \\n                  Bornova,\\n                ...  \n",
       "1  17 Yaşında    6. Kat  \\n                  Bornova,\\n                ...  \n",
       "2   7 Yaşında            \\n                  Çeşme,\\n                 \\...  \n",
       "3   2 Yaşında    3. Kat  \\n                  Buca,\\n                 \\n...  \n",
       "4  Sıfır Bina    1. Kat  \\n                  Buca,\\n                 \\n...  "
      ]
     },
     "execution_count": 23,
     "metadata": {},
     "output_type": "execute_result"
    }
   ],
   "source": [
    "df.head()"
   ]
  },
  {
   "cell_type": "markdown",
   "metadata": {},
   "source": [
    "# Veri mühendisliği ve Verileri Temizleme"
   ]
  },
  {
   "cell_type": "markdown",
   "metadata": {},
   "source": [
    "### Fiyat"
   ]
  },
  {
   "cell_type": "code",
   "execution_count": 24,
   "metadata": {},
   "outputs": [],
   "source": [
    "df['Price'] = df['Price'].str.replace('TL','')"
   ]
  },
  {
   "cell_type": "code",
   "execution_count": 25,
   "metadata": {},
   "outputs": [],
   "source": [
    "df['Price'] = df['Price'].str.replace('\\n','')"
   ]
  },
  {
   "cell_type": "code",
   "execution_count": 26,
   "metadata": {},
   "outputs": [],
   "source": [
    "df['Price'] = df['Price'].str.split('.')"
   ]
  },
  {
   "cell_type": "code",
   "execution_count": 27,
   "metadata": {},
   "outputs": [],
   "source": [
    "newlist = [int(\"\".join(x).strip()) for x in df['Price']] # List Comprehension"
   ]
  },
  {
   "cell_type": "code",
   "execution_count": 28,
   "metadata": {},
   "outputs": [],
   "source": [
    "df['Price'] = newlist"
   ]
  },
  {
   "cell_type": "code",
   "execution_count": 29,
   "metadata": {},
   "outputs": [
    {
     "data": {
      "text/plain": [
       "<AxesSubplot:xlabel='Price', ylabel='Density'>"
      ]
     },
     "execution_count": 29,
     "metadata": {},
     "output_type": "execute_result"
    },
    {
     "data": {
      "image/png": "[encoded data removed]",
      "text/plain": [
       "<Figure size 432x288 with 1 Axes>"
      ]
     },
     "metadata": {
      "needs_background": "light"
     },
     "output_type": "display_data"
    }
   ],
   "source": [
    "sns.distplot(df['Price']) # Görselleştirme"
   ]
  },
  {
   "cell_type": "markdown",
   "metadata": {},
   "source": [
    "### Oda Sayısı"
   ]
  },
  {
   "cell_type": "code",
   "execution_count": 30,
   "metadata": {},
   "outputs": [],
   "source": [
    "df['Room'].replace(\"Stüdyo\",\"1\", inplace=True)"
   ]
  },
  {
   "cell_type": "code",
   "execution_count": 31,
   "metadata": {},
   "outputs": [
    {
     "data": {
      "text/plain": [
       "array(['3 + 1', '1 + 1', '4 + 2', '4 + 1', '2 + 1'], dtype=object)"
      ]
     },
     "execution_count": 31,
     "metadata": {},
     "output_type": "execute_result"
    }
   ],
   "source": [
    "df['Room'].unique()"
   ]
  },
  {
   "cell_type": "code",
   "execution_count": 32,
   "metadata": {},
   "outputs": [],
   "source": [
    "df['Room'] = [eval(x) for x in df['Room']] "
   ]
  },
  {
   "cell_type": "code",
   "execution_count": 33,
   "metadata": {},
   "outputs": [
    {
     "data": {
      "text/plain": [
       "array([4, 2, 6, 5, 3], dtype=int64)"
      ]
     },
     "execution_count": 33,
     "metadata": {},
     "output_type": "execute_result"
    }
   ],
   "source": [
    "df['Room'].unique()"
   ]
  },
  {
   "cell_type": "code",
   "execution_count": 34,
   "metadata": {},
   "outputs": [
    {
     "data": {
      "text/plain": [
       "<AxesSubplot:xlabel='Room'>"
      ]
     },
     "execution_count": 34,
     "metadata": {},
     "output_type": "execute_result"
    },
    {
     "data": {
      "image/png": "[encoded data removed]",
      "text/plain": [
       "<Figure size 432x288 with 1 Axes>"
      ]
     },
     "metadata": {
      "needs_background": "light"
     },
     "output_type": "display_data"
    }
   ],
   "source": [
    "sns.boxplot(df['Room']) # Data visualization"
   ]
  },
  {
   "cell_type": "code",
   "execution_count": 35,
   "metadata": {},
   "outputs": [],
   "source": [
    "outliers = df.quantile(.97)\n",
    "df = df[(df['Room']<outliers['Room'])] # Getting rid of outliers"
   ]
  },
  {
   "cell_type": "markdown",
   "metadata": {},
   "source": [
    "### Metrekare"
   ]
  },
  {
   "cell_type": "code",
   "execution_count": 42,
   "metadata": {},
   "outputs": [
    {
     "data": {
      "text/plain": [
       "0       135\n",
       "1       130\n",
       "2       160\n",
       "3        60\n",
       "4        60\n",
       "       ... \n",
       "4627    120\n",
       "4628     85\n",
       "4629     50\n",
       "4630    125\n",
       "4631     60\n",
       "Name: View Size, Length: 4439, dtype: int64"
      ]
     },
     "execution_count": 42,
     "metadata": {},
     "output_type": "execute_result"
    }
   ],
   "source": [
    "df['View Size']"
   ]
  },
  {
   "cell_type": "code",
   "execution_count": 37,
   "metadata": {},
   "outputs": [],
   "source": [
    "df['View Size'] = df['View Size'].str.replace('\\n','')"
   ]
  },
  {
   "cell_type": "code",
   "execution_count": 39,
   "metadata": {},
   "outputs": [],
   "source": [
    "df['View Size'] = df['View Size'].str.replace(' m2','')"
   ]
  },
  {
   "cell_type": "code",
   "execution_count": 41,
   "metadata": {},
   "outputs": [],
   "source": [
    "df['View Size'] = df['View Size'].astype('int64')"
   ]
  },
  {
   "cell_type": "code",
   "execution_count": 44,
   "metadata": {},
   "outputs": [
    {
     "data": {
      "text/plain": [
       "<AxesSubplot:xlabel='View Size'>"
      ]
     },
     "execution_count": 44,
     "metadata": {},
     "output_type": "execute_result"
    },
    {
     "data": {
      "image/png": "[encoded data removed]",
      "text/plain": [
       "<Figure size 432x288 with 1 Axes>"
      ]
     },
     "metadata": {
      "needs_background": "light"
     },
     "output_type": "display_data"
    }
   ],
   "source": [
    "sns.boxplot(df['View Size']) # Görselleştirme"
   ]
  },
  {
   "cell_type": "markdown",
   "metadata": {},
   "source": [
    "### Dışarıda kalan verileri verisetinden çıkartma işlemi "
   ]
  },
  {
   "cell_type": "code",
   "execution_count": 45,
   "metadata": {},
   "outputs": [],
   "source": [
    "outliers = df.quantile(.97)\n",
    "df = df[(df['View Size']<outliers['View Size'])] # Getting rid of outliers"
   ]
  },
  {
   "cell_type": "markdown",
   "metadata": {},
   "source": [
    "### Yaş"
   ]
  },
  {
   "cell_type": "code",
   "execution_count": 46,
   "metadata": {},
   "outputs": [
    {
     "data": {
      "text/plain": [
       "array(['30 Yaşında', '17 Yaşında', '7 Yaşında', '2 Yaşında', 'Sıfır Bina',\n",
       "       '25 Yaşında', '20 Yaşında', '1 Yaşında', '5 Yaşında', '10 Yaşında',\n",
       "       '15 Yaşında', '4 Yaşında', '22 Yaşında'], dtype=object)"
      ]
     },
     "execution_count": 46,
     "metadata": {},
     "output_type": "execute_result"
    }
   ],
   "source": [
    "df['Age'].unique()"
   ]
  },
  {
   "cell_type": "code",
   "execution_count": 47,
   "metadata": {},
   "outputs": [],
   "source": [
    "df['Age'] = df['Age'].str.extract('(\\d+)');"
   ]
  },
  {
   "cell_type": "markdown",
   "metadata": {},
   "source": [
    "**Boş verileri 0 ile doldurdum çünkü içerisinde numerik veri bulunmayan tek veri Sıfır Bina verisi dolayısı ile bu bina 0 olur.**"
   ]
  },
  {
   "cell_type": "code",
   "execution_count": 48,
   "metadata": {},
   "outputs": [],
   "source": [
    "df['Age'].fillna(0, inplace=True) "
   ]
  },
  {
   "cell_type": "code",
   "execution_count": 49,
   "metadata": {},
   "outputs": [],
   "source": [
    "df['Age'] = df['Age'].astype('float64')"
   ]
  },
  {
   "cell_type": "code",
   "execution_count": 50,
   "metadata": {},
   "outputs": [
    {
     "data": {
      "text/plain": [
       "<AxesSubplot:xlabel='Age', ylabel='count'>"
      ]
     },
     "execution_count": 50,
     "metadata": {},
     "output_type": "execute_result"
    },
    {
     "data": {
      "image/png": "[encoded data removed]",
      "text/plain": [
       "<Figure size 432x288 with 1 Axes>"
      ]
     },
     "metadata": {
      "needs_background": "light"
     },
     "output_type": "display_data"
    }
   ],
   "source": [
    "sns.countplot(df['Age'])"
   ]
  },
  {
   "cell_type": "code",
   "execution_count": 58,
   "metadata": {},
   "outputs": [],
   "source": [
    "outliers = df.quantile(.97)"
   ]
  },
  {
   "cell_type": "code",
   "execution_count": 59,
   "metadata": {},
   "outputs": [],
   "source": [
    "df = df[(df['Age']<outliers['Age'])] # Getting rid of outliers"
   ]
  },
  {
   "cell_type": "markdown",
   "metadata": {},
   "source": [
    "### Kat "
   ]
  },
  {
   "cell_type": "code",
   "execution_count": 60,
   "metadata": {},
   "outputs": [
    {
     "data": {
      "text/plain": [
       "array([2, 3, 1, 5], dtype=int64)"
      ]
     },
     "execution_count": 60,
     "metadata": {},
     "output_type": "execute_result"
    }
   ],
   "source": [
    "df['Floortype'].unique()"
   ]
  },
  {
   "cell_type": "code",
   "execution_count": 61,
   "metadata": {
    "collapsed": true
   },
   "outputs": [
    {
     "ename": "AttributeError",
     "evalue": "Can only use .str accessor with string values!",
     "output_type": "error",
     "traceback": [
      "\u001b[1;31m---------------------------------------------------------------------------\u001b[0m",
      "\u001b[1;31mAttributeError\u001b[0m                            Traceback (most recent call last)",
      "\u001b[1;32m<ipython-input-61-84746ef1eadf>\u001b[0m in \u001b[0;36m<module>\u001b[1;34m\u001b[0m\n\u001b[0;32m      9\u001b[0m \u001b[0mdf\u001b[0m\u001b[1;33m.\u001b[0m\u001b[0mreplace\u001b[0m\u001b[1;33m(\u001b[0m\u001b[1;34m' Kot 2'\u001b[0m\u001b[1;33m,\u001b[0m \u001b[1;34m\"0\"\u001b[0m\u001b[1;33m,\u001b[0m \u001b[0minplace\u001b[0m\u001b[1;33m=\u001b[0m\u001b[1;32mTrue\u001b[0m\u001b[1;33m)\u001b[0m\u001b[1;33m\u001b[0m\u001b[1;33m\u001b[0m\u001b[0m\n\u001b[0;32m     10\u001b[0m \u001b[1;33m\u001b[0m\u001b[0m\n\u001b[1;32m---> 11\u001b[1;33m \u001b[0mdf\u001b[0m\u001b[1;33m[\u001b[0m\u001b[1;34m'Floortype'\u001b[0m\u001b[1;33m]\u001b[0m \u001b[1;33m=\u001b[0m \u001b[0mdf\u001b[0m\u001b[1;33m[\u001b[0m\u001b[1;34m'Floortype'\u001b[0m\u001b[1;33m]\u001b[0m\u001b[1;33m.\u001b[0m\u001b[0mstr\u001b[0m\u001b[1;33m.\u001b[0m\u001b[0mextract\u001b[0m\u001b[1;33m(\u001b[0m\u001b[1;34m'(\\d+)'\u001b[0m\u001b[1;33m)\u001b[0m\u001b[1;33m;\u001b[0m\u001b[1;33m\u001b[0m\u001b[1;33m\u001b[0m\u001b[0m\n\u001b[0m\u001b[0;32m     12\u001b[0m \u001b[1;33m\u001b[0m\u001b[0m\n\u001b[0;32m     13\u001b[0m \u001b[0mdf\u001b[0m\u001b[1;33m[\u001b[0m\u001b[1;34m'Floortype'\u001b[0m\u001b[1;33m]\u001b[0m\u001b[1;33m.\u001b[0m\u001b[0mfillna\u001b[0m\u001b[1;33m(\u001b[0m\u001b[1;36m2\u001b[0m\u001b[1;33m,\u001b[0m \u001b[0minplace\u001b[0m\u001b[1;33m=\u001b[0m\u001b[1;32mTrue\u001b[0m\u001b[1;33m)\u001b[0m\u001b[1;33m\u001b[0m\u001b[1;33m\u001b[0m\u001b[0m\n",
      "\u001b[1;32m~\\anaconda3\\lib\\site-packages\\pandas\\core\\generic.py\u001b[0m in \u001b[0;36m__getattr__\u001b[1;34m(self, name)\u001b[0m\n\u001b[0;32m   5133\u001b[0m             \u001b[1;32mor\u001b[0m \u001b[0mname\u001b[0m \u001b[1;32min\u001b[0m \u001b[0mself\u001b[0m\u001b[1;33m.\u001b[0m\u001b[0m_accessors\u001b[0m\u001b[1;33m\u001b[0m\u001b[1;33m\u001b[0m\u001b[0m\n\u001b[0;32m   5134\u001b[0m         ):\n\u001b[1;32m-> 5135\u001b[1;33m             \u001b[1;32mreturn\u001b[0m \u001b[0mobject\u001b[0m\u001b[1;33m.\u001b[0m\u001b[0m__getattribute__\u001b[0m\u001b[1;33m(\u001b[0m\u001b[0mself\u001b[0m\u001b[1;33m,\u001b[0m \u001b[0mname\u001b[0m\u001b[1;33m)\u001b[0m\u001b[1;33m\u001b[0m\u001b[1;33m\u001b[0m\u001b[0m\n\u001b[0m\u001b[0;32m   5136\u001b[0m         \u001b[1;32melse\u001b[0m\u001b[1;33m:\u001b[0m\u001b[1;33m\u001b[0m\u001b[1;33m\u001b[0m\u001b[0m\n\u001b[0;32m   5137\u001b[0m             \u001b[1;32mif\u001b[0m \u001b[0mself\u001b[0m\u001b[1;33m.\u001b[0m\u001b[0m_info_axis\u001b[0m\u001b[1;33m.\u001b[0m\u001b[0m_can_hold_identifiers_and_holds_name\u001b[0m\u001b[1;33m(\u001b[0m\u001b[0mname\u001b[0m\u001b[1;33m)\u001b[0m\u001b[1;33m:\u001b[0m\u001b[1;33m\u001b[0m\u001b[1;33m\u001b[0m\u001b[0m\n",
      "\u001b[1;32m~\\anaconda3\\lib\\site-packages\\pandas\\core\\accessor.py\u001b[0m in \u001b[0;36m__get__\u001b[1;34m(self, obj, cls)\u001b[0m\n\u001b[0;32m    185\u001b[0m             \u001b[1;31m# we're accessing the attribute of the class, i.e., Dataset.geo\u001b[0m\u001b[1;33m\u001b[0m\u001b[1;33m\u001b[0m\u001b[1;33m\u001b[0m\u001b[0m\n\u001b[0;32m    186\u001b[0m             \u001b[1;32mreturn\u001b[0m \u001b[0mself\u001b[0m\u001b[1;33m.\u001b[0m\u001b[0m_accessor\u001b[0m\u001b[1;33m\u001b[0m\u001b[1;33m\u001b[0m\u001b[0m\n\u001b[1;32m--> 187\u001b[1;33m         \u001b[0maccessor_obj\u001b[0m \u001b[1;33m=\u001b[0m \u001b[0mself\u001b[0m\u001b[1;33m.\u001b[0m\u001b[0m_accessor\u001b[0m\u001b[1;33m(\u001b[0m\u001b[0mobj\u001b[0m\u001b[1;33m)\u001b[0m\u001b[1;33m\u001b[0m\u001b[1;33m\u001b[0m\u001b[0m\n\u001b[0m\u001b[0;32m    188\u001b[0m         \u001b[1;31m# Replace the property with the accessor object. Inspired by:\u001b[0m\u001b[1;33m\u001b[0m\u001b[1;33m\u001b[0m\u001b[1;33m\u001b[0m\u001b[0m\n\u001b[0;32m    189\u001b[0m         \u001b[1;31m# https://www.pydanny.com/cached-property.html\u001b[0m\u001b[1;33m\u001b[0m\u001b[1;33m\u001b[0m\u001b[1;33m\u001b[0m\u001b[0m\n",
      "\u001b[1;32m~\\anaconda3\\lib\\site-packages\\pandas\\core\\strings.py\u001b[0m in \u001b[0;36m__init__\u001b[1;34m(self, data)\u001b[0m\n\u001b[0;32m   2098\u001b[0m \u001b[1;33m\u001b[0m\u001b[0m\n\u001b[0;32m   2099\u001b[0m     \u001b[1;32mdef\u001b[0m \u001b[0m__init__\u001b[0m\u001b[1;33m(\u001b[0m\u001b[0mself\u001b[0m\u001b[1;33m,\u001b[0m \u001b[0mdata\u001b[0m\u001b[1;33m)\u001b[0m\u001b[1;33m:\u001b[0m\u001b[1;33m\u001b[0m\u001b[1;33m\u001b[0m\u001b[0m\n\u001b[1;32m-> 2100\u001b[1;33m         \u001b[0mself\u001b[0m\u001b[1;33m.\u001b[0m\u001b[0m_inferred_dtype\u001b[0m \u001b[1;33m=\u001b[0m \u001b[0mself\u001b[0m\u001b[1;33m.\u001b[0m\u001b[0m_validate\u001b[0m\u001b[1;33m(\u001b[0m\u001b[0mdata\u001b[0m\u001b[1;33m)\u001b[0m\u001b[1;33m\u001b[0m\u001b[1;33m\u001b[0m\u001b[0m\n\u001b[0m\u001b[0;32m   2101\u001b[0m         \u001b[0mself\u001b[0m\u001b[1;33m.\u001b[0m\u001b[0m_is_categorical\u001b[0m \u001b[1;33m=\u001b[0m \u001b[0mis_categorical_dtype\u001b[0m\u001b[1;33m(\u001b[0m\u001b[0mdata\u001b[0m\u001b[1;33m.\u001b[0m\u001b[0mdtype\u001b[0m\u001b[1;33m)\u001b[0m\u001b[1;33m\u001b[0m\u001b[1;33m\u001b[0m\u001b[0m\n\u001b[0;32m   2102\u001b[0m         \u001b[0mself\u001b[0m\u001b[1;33m.\u001b[0m\u001b[0m_is_string\u001b[0m \u001b[1;33m=\u001b[0m \u001b[0mdata\u001b[0m\u001b[1;33m.\u001b[0m\u001b[0mdtype\u001b[0m\u001b[1;33m.\u001b[0m\u001b[0mname\u001b[0m \u001b[1;33m==\u001b[0m \u001b[1;34m\"string\"\u001b[0m\u001b[1;33m\u001b[0m\u001b[1;33m\u001b[0m\u001b[0m\n",
      "\u001b[1;32m~\\anaconda3\\lib\\site-packages\\pandas\\core\\strings.py\u001b[0m in \u001b[0;36m_validate\u001b[1;34m(data)\u001b[0m\n\u001b[0;32m   2155\u001b[0m \u001b[1;33m\u001b[0m\u001b[0m\n\u001b[0;32m   2156\u001b[0m         \u001b[1;32mif\u001b[0m \u001b[0minferred_dtype\u001b[0m \u001b[1;32mnot\u001b[0m \u001b[1;32min\u001b[0m \u001b[0mallowed_types\u001b[0m\u001b[1;33m:\u001b[0m\u001b[1;33m\u001b[0m\u001b[1;33m\u001b[0m\u001b[0m\n\u001b[1;32m-> 2157\u001b[1;33m             \u001b[1;32mraise\u001b[0m \u001b[0mAttributeError\u001b[0m\u001b[1;33m(\u001b[0m\u001b[1;34m\"Can only use .str accessor with string values!\"\u001b[0m\u001b[1;33m)\u001b[0m\u001b[1;33m\u001b[0m\u001b[1;33m\u001b[0m\u001b[0m\n\u001b[0m\u001b[0;32m   2158\u001b[0m         \u001b[1;32mreturn\u001b[0m \u001b[0minferred_dtype\u001b[0m\u001b[1;33m\u001b[0m\u001b[1;33m\u001b[0m\u001b[0m\n\u001b[0;32m   2159\u001b[0m \u001b[1;33m\u001b[0m\u001b[0m\n",
      "\u001b[1;31mAttributeError\u001b[0m: Can only use .str accessor with string values!"
     ]
    }
   ],
   "source": [
    "df.replace(' Zemin', \"0\", inplace=True)\n",
    "\n",
    "df.replace(' Ara Kat', \"2\", inplace=True)\n",
    "\n",
    "df.replace(' Yüksek Giriş', \"1\", inplace=True)\n",
    "\n",
    "df.replace(' Giriş Katı', \"0\", inplace=True)\n",
    "\n",
    "df.replace(' Kot 2', \"0\", inplace=True)\n",
    "\n",
    "df['Floortype'] = df['Floortype'].str.extract('(\\d+)');\n",
    "\n",
    "df['Floortype'].fillna(2, inplace=True)\n",
    "\n",
    "df['Floortype'] = df['Floortype'].astype('int64')"
   ]
  },
  {
   "cell_type": "code",
   "execution_count": 62,
   "metadata": {},
   "outputs": [
    {
     "data": {
      "text/plain": [
       "<AxesSubplot:xlabel='Floortype', ylabel='count'>"
      ]
     },
     "execution_count": 62,
     "metadata": {},
     "output_type": "execute_result"
    },
    {
     "data": {
      "image/png": "[encoded data removed]",
      "text/plain": [
       "<Figure size 432x288 with 1 Axes>"
      ]
     },
     "metadata": {
      "needs_background": "light"
     },
     "output_type": "display_data"
    }
   ],
   "source": [
    "sns.countplot(df['Floortype'])"
   ]
  },
  {
   "cell_type": "code",
   "execution_count": 63,
   "metadata": {},
   "outputs": [],
   "source": [
    "df = df[(df['Floortype']<outliers['Floortype'])] # Getting rid of outliers"
   ]
  },
  {
   "cell_type": "markdown",
   "metadata": {},
   "source": [
    "### Lokasyon"
   ]
  },
  {
   "cell_type": "code",
   "execution_count": 64,
   "metadata": {},
   "outputs": [
    {
     "data": {
      "text/plain": [
       "array(['\\n                  Çeşme,\\n                 \\n                  Şifne Mahallesi\\n                ',\n",
       "       '\\n                  Buca,\\n                 \\n                  Kozağaç Mahallesi\\n                ',\n",
       "       '\\n                  Buca,\\n                 \\n                  Vali Rahmi Bey Mahallesi\\n                ',\n",
       "       '\\n                  Narlıdere,\\n                 \\n                  Çamtepe Mahallesi\\n                ',\n",
       "       '\\n                  Konak,\\n                 \\n                  Mimar Sinan Mahallesi\\n                ',\n",
       "       '\\n                  Çeşme,\\n                 \\n                  Yalı Mahallesi\\n                ',\n",
       "       '\\n                  Çeşme,\\n                 \\n                  Alaçatı Mahallesi\\n                ',\n",
       "       '\\n                  Buca,\\n                 \\n                  Mustafa Kemal Mahallesi\\n                ',\n",
       "       '\\n                  Çeşme,\\n                 \\n                  Çakabey Mahallesi\\n                ',\n",
       "       '\\n                  Karşıyaka,\\n                 \\n                  Aksoy Mahallesi\\n                ',\n",
       "       '\\n                  Balçova,\\n                 \\n                  Fevzi Çakmak Mahallesi\\n                ',\n",
       "       '\\n                  Karşıyaka,\\n                 \\n                  Dedebaşı Mahallesi\\n                ',\n",
       "       '\\n                  Bornova,\\n                 \\n                  Mevlana Mahallesi\\n                '],\n",
       "      dtype=object)"
      ]
     },
     "execution_count": 64,
     "metadata": {},
     "output_type": "execute_result"
    }
   ],
   "source": [
    "df['Location'].unique()"
   ]
  },
  {
   "cell_type": "code",
   "execution_count": 65,
   "metadata": {},
   "outputs": [],
   "source": [
    "df['Location'] = [x.split(\",\")[0] for x in df['Location']]"
   ]
  },
  {
   "cell_type": "code",
   "execution_count": 66,
   "metadata": {},
   "outputs": [],
   "source": [
    "df['Location'] = df['Location'].str.replace(\"\\n\",\"\")"
   ]
  },
  {
   "cell_type": "code",
   "execution_count": 81,
   "metadata": {},
   "outputs": [],
   "source": [
    "df['Location'] = df['Location'].str.strip()"
   ]
  },
  {
   "cell_type": "code",
   "execution_count": 82,
   "metadata": {},
   "outputs": [],
   "source": [
    "df['Location'] = df['Location'].astype('category') # Turning into category variable "
   ]
  },
  {
   "cell_type": "code",
   "execution_count": 83,
   "metadata": {},
   "outputs": [
    {
     "data": {
      "text/html": [
       "<div>\n",
       "<style scoped>\n",
       "    .dataframe tbody tr th:only-of-type {\n",
       "        vertical-align: middle;\n",
       "    }\n",
       "\n",
       "    .dataframe tbody tr th {\n",
       "        vertical-align: top;\n",
       "    }\n",
       "\n",
       "    .dataframe thead th {\n",
       "        text-align: right;\n",
       "    }\n",
       "</style>\n",
       "<table border=\"1\" class=\"dataframe\">\n",
       "  <thead>\n",
       "    <tr style=\"text-align: right;\">\n",
       "      <th></th>\n",
       "      <th>Price</th>\n",
       "      <th>Room</th>\n",
       "      <th>View Size</th>\n",
       "      <th>Age</th>\n",
       "      <th>Floortype</th>\n",
       "      <th>Location</th>\n",
       "    </tr>\n",
       "  </thead>\n",
       "  <tbody>\n",
       "    <tr>\n",
       "      <th>2</th>\n",
       "      <td>145000</td>\n",
       "      <td>4</td>\n",
       "      <td>160</td>\n",
       "      <td>7.0</td>\n",
       "      <td>2</td>\n",
       "      <td>Çeşme</td>\n",
       "    </tr>\n",
       "    <tr>\n",
       "      <th>3</th>\n",
       "      <td>1000</td>\n",
       "      <td>2</td>\n",
       "      <td>60</td>\n",
       "      <td>2.0</td>\n",
       "      <td>3</td>\n",
       "      <td>Buca</td>\n",
       "    </tr>\n",
       "    <tr>\n",
       "      <th>4</th>\n",
       "      <td>1200</td>\n",
       "      <td>2</td>\n",
       "      <td>60</td>\n",
       "      <td>0.0</td>\n",
       "      <td>1</td>\n",
       "      <td>Buca</td>\n",
       "    </tr>\n",
       "    <tr>\n",
       "      <th>5</th>\n",
       "      <td>1500</td>\n",
       "      <td>4</td>\n",
       "      <td>130</td>\n",
       "      <td>25.0</td>\n",
       "      <td>1</td>\n",
       "      <td>Buca</td>\n",
       "    </tr>\n",
       "    <tr>\n",
       "      <th>7</th>\n",
       "      <td>1850</td>\n",
       "      <td>4</td>\n",
       "      <td>100</td>\n",
       "      <td>25.0</td>\n",
       "      <td>1</td>\n",
       "      <td>Narlıdere</td>\n",
       "    </tr>\n",
       "    <tr>\n",
       "      <th>...</th>\n",
       "      <td>...</td>\n",
       "      <td>...</td>\n",
       "      <td>...</td>\n",
       "      <td>...</td>\n",
       "      <td>...</td>\n",
       "      <td>...</td>\n",
       "    </tr>\n",
       "    <tr>\n",
       "      <th>4623</th>\n",
       "      <td>24000</td>\n",
       "      <td>2</td>\n",
       "      <td>65</td>\n",
       "      <td>10.0</td>\n",
       "      <td>2</td>\n",
       "      <td>Çeşme</td>\n",
       "    </tr>\n",
       "    <tr>\n",
       "      <th>4626</th>\n",
       "      <td>2150</td>\n",
       "      <td>2</td>\n",
       "      <td>65</td>\n",
       "      <td>15.0</td>\n",
       "      <td>2</td>\n",
       "      <td>Karşıyaka</td>\n",
       "    </tr>\n",
       "    <tr>\n",
       "      <th>4627</th>\n",
       "      <td>2000</td>\n",
       "      <td>4</td>\n",
       "      <td>120</td>\n",
       "      <td>25.0</td>\n",
       "      <td>1</td>\n",
       "      <td>Balçova</td>\n",
       "    </tr>\n",
       "    <tr>\n",
       "      <th>4628</th>\n",
       "      <td>2700</td>\n",
       "      <td>3</td>\n",
       "      <td>85</td>\n",
       "      <td>7.0</td>\n",
       "      <td>3</td>\n",
       "      <td>Karşıyaka</td>\n",
       "    </tr>\n",
       "    <tr>\n",
       "      <th>4631</th>\n",
       "      <td>1450</td>\n",
       "      <td>2</td>\n",
       "      <td>60</td>\n",
       "      <td>1.0</td>\n",
       "      <td>2</td>\n",
       "      <td>Bornova</td>\n",
       "    </tr>\n",
       "  </tbody>\n",
       "</table>\n",
       "<p>2895 rows × 6 columns</p>\n",
       "</div>"
      ],
      "text/plain": [
       "       Price  Room  View Size   Age  Floortype   Location\n",
       "2     145000     4        160   7.0          2      Çeşme\n",
       "3       1000     2         60   2.0          3       Buca\n",
       "4       1200     2         60   0.0          1       Buca\n",
       "5       1500     4        130  25.0          1       Buca\n",
       "7       1850     4        100  25.0          1  Narlıdere\n",
       "...      ...   ...        ...   ...        ...        ...\n",
       "4623   24000     2         65  10.0          2      Çeşme\n",
       "4626    2150     2         65  15.0          2  Karşıyaka\n",
       "4627    2000     4        120  25.0          1    Balçova\n",
       "4628    2700     3         85   7.0          3  Karşıyaka\n",
       "4631    1450     2         60   1.0          2    Bornova\n",
       "\n",
       "[2895 rows x 6 columns]"
      ]
     },
     "execution_count": 83,
     "metadata": {},
     "output_type": "execute_result"
    }
   ],
   "source": [
    "df"
   ]
  },
  {
   "cell_type": "markdown",
   "metadata": {},
   "source": [
    "**Bu grafikten de anladığımız üzere Çeşme'deki evlerin kiraları gerçekten pahalı diğer semtlere göre**"
   ]
  },
  {
   "cell_type": "code",
   "execution_count": 84,
   "metadata": {},
   "outputs": [
    {
     "data": {
      "text/plain": [
       "<AxesSubplot:xlabel='Location', ylabel='Price'>"
      ]
     },
     "execution_count": 84,
     "metadata": {},
     "output_type": "execute_result"
    },
    {
     "data": {
      "image/png": "[encoded data removed]",
      "text/plain": [
       "<Figure size 842.4x595.44 with 1 Axes>"
      ]
     },
     "metadata": {},
     "output_type": "display_data"
    }
   ],
   "source": [
    "import seaborn as sns\n",
    "\n",
    "sns.set(rc={'figure.figsize':(11.7,8.27)})\n",
    "\n",
    "sns.barplot(x=df['Location'], y=df['Price'])"
   ]
  },
  {
   "cell_type": "markdown",
   "metadata": {},
   "source": [
    "# Modelleme"
   ]
  },
  {
   "cell_type": "markdown",
   "metadata": {},
   "source": [
    "## Kütüphane kurulumu ve Verileri Ayırma"
   ]
  },
  {
   "cell_type": "code",
   "execution_count": 85,
   "metadata": {},
   "outputs": [],
   "source": [
    "from sklearn.linear_model import LinearRegression #SKLEARN = Science Kit Learn\n",
    "from sklearn.model_selection import train_test_split"
   ]
  },
  {
   "cell_type": "code",
   "execution_count": 86,
   "metadata": {},
   "outputs": [],
   "source": [
    "X = df[['Room', 'View Size', 'Floortype', 'Location','Age']]\n",
    "\n",
    "y = df['Price']"
   ]
  },
  {
   "cell_type": "code",
   "execution_count": 87,
   "metadata": {},
   "outputs": [],
   "source": [
    "X=pd.get_dummies(X,drop_first=True) # Dummies"
   ]
  },
  {
   "cell_type": "code",
   "execution_count": 88,
   "metadata": {},
   "outputs": [],
   "source": [
    "X_train, X_test, y_train, y_test=train_test_split(X,y,test_size=0.2,random_state=13)"
   ]
  },
  {
   "cell_type": "code",
   "execution_count": 89,
   "metadata": {},
   "outputs": [
    {
     "data": {
      "text/plain": [
       "((2316, 10), (579, 10), (2316,), (579,))"
      ]
     },
     "execution_count": 89,
     "metadata": {},
     "output_type": "execute_result"
    }
   ],
   "source": [
    "X_train.shape, X_test.shape, y_train.shape, y_test.shape"
   ]
  },
  {
   "cell_type": "markdown",
   "metadata": {},
   "source": [
    "### Dummies ve Korelasyon verileri"
   ]
  },
  {
   "cell_type": "code",
   "execution_count": 90,
   "metadata": {},
   "outputs": [],
   "source": [
    "new = X.join(y) # Az önce ayırdığım verileri korelasyon verileri için birleştiriyorum"
   ]
  },
  {
   "cell_type": "code",
   "execution_count": 91,
   "metadata": {},
   "outputs": [
    {
     "data": {
      "text/plain": [
       "Price                 1.000000\n",
       "Location_Çeşme        0.889655\n",
       "View Size             0.660746\n",
       "Room                  0.560949\n",
       "Age                   0.398881\n",
       "Location_Buca         0.384081\n",
       "Floortype             0.246014\n",
       "Location_Karşıyaka    0.243699\n",
       "Location_Bornova      0.170022\n",
       "Location_Narlıdere    0.168394\n",
       "Location_Konak        0.162083\n",
       "Name: Price, dtype: float64"
      ]
     },
     "execution_count": 91,
     "metadata": {},
     "output_type": "execute_result"
    }
   ],
   "source": [
    "abs(new.corr()['Price']).sort_values(ascending=False) "
   ]
  },
  {
   "cell_type": "markdown",
   "metadata": {},
   "source": [
    "## Modelleme işlemi "
   ]
  },
  {
   "cell_type": "markdown",
   "metadata": {},
   "source": [
    "### Kütüphaneler"
   ]
  },
  {
   "cell_type": "code",
   "execution_count": 92,
   "metadata": {},
   "outputs": [],
   "source": [
    "from sklearn.linear_model import ElasticNet\n",
    "from sklearn.tree import ExtraTreeRegressor\n",
    "from sklearn.ensemble import GradientBoostingRegressor\n",
    "from xgboost import XGBRegressor\n",
    "from sklearn.metrics import mean_absolute_error\n",
    "from sklearn.linear_model import Ridge,Lasso\n",
    "from sklearn.metrics import mean_squared_error,r2_score"
   ]
  },
  {
   "cell_type": "code",
   "execution_count": 93,
   "metadata": {},
   "outputs": [],
   "source": [
    "def algo_test(x, y):\n",
    "    \n",
    "    L = LinearRegression()\n",
    "    E = ElasticNet()\n",
    "    R = Ridge()\n",
    "    Lass = Lasso()\n",
    "    ETR = ExtraTreeRegressor()\n",
    "    GBR = GradientBoostingRegressor()\n",
    "    XGBC = XGBRegressor()\n",
    "    \n",
    "    X_train, X_test, y_train, y_test = train_test_split(X, y, test_size = 0.2, random_state=13)\n",
    "    \n",
    "    algos = [L, E, R, Lass, ETR, GBR, XGBC]\n",
    "    algo_names= ['Linear', 'ElasticNet', 'Ridge', 'Lasso', 'Extra Tree', 'Gradient Boosting', 'XGBRegressor']\n",
    "    r_squared = []\n",
    "    rmse = []\n",
    "    mae = []\n",
    "    \n",
    "    result = pd.DataFrame(columns = ['R_Squared', 'RMSE', 'MAE'],\n",
    "                           index = algo_names)\n",
    "    \n",
    "    for algo in algos:\n",
    "        algo.fit(X_train, y_train)\n",
    "        algo.predict(X_test)\n",
    "        \n",
    "        r_squared.append(r2_score(y_test, algo.predict(X_test)))\n",
    "        rmse.append(mean_squared_error(y_test, algo.predict(X_test))**.5)\n",
    "        mae.append(mean_absolute_error(y_test, algo.predict(X_test)))\n",
    "        \n",
    "    result.R_Squared = r_squared\n",
    "    result.RMSE = rmse\n",
    "    result.MAE = mae\n",
    "    \n",
    "    return result.sort_values('R_Squared', ascending=False)"
   ]
  },
  {
   "cell_type": "code",
   "execution_count": 94,
   "metadata": {},
   "outputs": [
    {
     "data": {
      "text/html": [
       "<div>\n",
       "<style scoped>\n",
       "    .dataframe tbody tr th:only-of-type {\n",
       "        vertical-align: middle;\n",
       "    }\n",
       "\n",
       "    .dataframe tbody tr th {\n",
       "        vertical-align: top;\n",
       "    }\n",
       "\n",
       "    .dataframe thead th {\n",
       "        text-align: right;\n",
       "    }\n",
       "</style>\n",
       "<table border=\"1\" class=\"dataframe\">\n",
       "  <thead>\n",
       "    <tr style=\"text-align: right;\">\n",
       "      <th></th>\n",
       "      <th>R_Squared</th>\n",
       "      <th>RMSE</th>\n",
       "      <th>MAE</th>\n",
       "    </tr>\n",
       "  </thead>\n",
       "  <tbody>\n",
       "    <tr>\n",
       "      <th>Extra Tree</th>\n",
       "      <td>1.000000</td>\n",
       "      <td>0.000000</td>\n",
       "      <td>0.000000</td>\n",
       "    </tr>\n",
       "    <tr>\n",
       "      <th>XGBRegressor</th>\n",
       "      <td>1.000000</td>\n",
       "      <td>0.008457</td>\n",
       "      <td>0.004778</td>\n",
       "    </tr>\n",
       "    <tr>\n",
       "      <th>Gradient Boosting</th>\n",
       "      <td>1.000000</td>\n",
       "      <td>5.363944</td>\n",
       "      <td>4.266075</td>\n",
       "    </tr>\n",
       "    <tr>\n",
       "      <th>Linear</th>\n",
       "      <td>0.934606</td>\n",
       "      <td>17404.770985</td>\n",
       "      <td>13409.293869</td>\n",
       "    </tr>\n",
       "    <tr>\n",
       "      <th>Lasso</th>\n",
       "      <td>0.934604</td>\n",
       "      <td>17404.947351</td>\n",
       "      <td>13411.943688</td>\n",
       "    </tr>\n",
       "    <tr>\n",
       "      <th>Ridge</th>\n",
       "      <td>0.934541</td>\n",
       "      <td>17413.366458</td>\n",
       "      <td>13457.805372</td>\n",
       "    </tr>\n",
       "    <tr>\n",
       "      <th>ElasticNet</th>\n",
       "      <td>0.724872</td>\n",
       "      <td>35699.797445</td>\n",
       "      <td>27568.766538</td>\n",
       "    </tr>\n",
       "  </tbody>\n",
       "</table>\n",
       "</div>"
      ],
      "text/plain": [
       "                   R_Squared          RMSE           MAE\n",
       "Extra Tree          1.000000      0.000000      0.000000\n",
       "XGBRegressor        1.000000      0.008457      0.004778\n",
       "Gradient Boosting   1.000000      5.363944      4.266075\n",
       "Linear              0.934606  17404.770985  13409.293869\n",
       "Lasso               0.934604  17404.947351  13411.943688\n",
       "Ridge               0.934541  17413.366458  13457.805372\n",
       "ElasticNet          0.724872  35699.797445  27568.766538"
      ]
     },
     "execution_count": 94,
     "metadata": {},
     "output_type": "execute_result"
    }
   ],
   "source": [
    "algo_test(X, y)"
   ]
  },
  {
   "cell_type": "code",
   "execution_count": null,
   "metadata": {},
   "outputs": [],
   "source": []
  },
  {
   "cell_type": "code",
   "execution_count": null,
   "metadata": {},
   "outputs": [],
   "source": []
  }
 ],
 "metadata": {
  "kernelspec": {
   "display_name": "Python 3",
   "language": "python",
   "name": "python3"
  },
  "language_info": {
   "codemirror_mode": {
    "name": "ipython",
    "version": 3
   },
   "file_extension": ".py",
   "mimetype": "text/x-python",
   "name": "python",
   "nbconvert_exporter": "python",
   "pygments_lexer": "ipython3",
   "version": "3.8.5"
  }
 },
 "nbformat": 4,
 "nbformat_minor": 4
}
